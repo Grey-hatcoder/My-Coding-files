{
 "cells": [
  {
   "cell_type": "code",
   "execution_count": 2,
   "metadata": {},
   "outputs": [],
   "source": [
    "import numpy as np\n",
    "import pandas as pd"
   ]
  },
  {
   "cell_type": "code",
   "execution_count": 3,
   "metadata": {},
   "outputs": [
    {
     "data": {
      "text/plain": [
       "array([         0,          1,          4, ..., -733379959, -731379964,\n",
       "       -729379967])"
      ]
     },
     "execution_count": 3,
     "metadata": {},
     "output_type": "execute_result"
    }
   ],
   "source": [
    "#array supports element wise operations\n",
    "arr1 = np.array(range(1000000))\n",
    "arr1**2"
   ]
  },
  {
   "cell_type": "code",
   "execution_count": 4,
   "metadata": {},
   "outputs": [
    {
     "name": "stdout",
     "output_type": "stream",
     "text": [
      "list operation time is 12.598976850509644\n",
      "Array operation time is 7.907897472381592\n"
     ]
    }
   ],
   "source": [
    "#proving that numpy is faster\n",
    "import time\n",
    "st = time.time()\n",
    "list1 = list(range(1000000))\n",
    "list1 = [i**2 for i in list1]\n",
    "et = time.time()\n",
    "print(f\"list operation time is {et-st}\")\n",
    "\n",
    "st = time.time()\n",
    "arr1 = np.array(range(1000000))\n",
    "arr1**2\n",
    "et = time.time()\n",
    "print(f\"Array operation time is {et-st}\")"
   ]
  },
  {
   "cell_type": "markdown",
   "metadata": {},
   "source": [
    "Read about vectorization which is parellel processing which helps array in performing faster code"
   ]
  },
  {
   "cell_type": "code",
   "execution_count": 5,
   "metadata": {},
   "outputs": [
    {
     "name": "stdout",
     "output_type": "stream",
     "text": [
      "1\n",
      "(10,)\n"
     ]
    }
   ],
   "source": [
    "#dimensions of an array\n",
    "arr = np.array(range(10))\n",
    "print(arr.ndim)\n",
    "print(arr.shape)"
   ]
  },
  {
   "cell_type": "code",
   "execution_count": 6,
   "metadata": {},
   "outputs": [
    {
     "name": "stdout",
     "output_type": "stream",
     "text": [
      "2\n",
      "(3, 2)\n"
     ]
    }
   ],
   "source": [
    "#multi dimensional array\n",
    "arr2 = np.array([[1,2],[2,3],[3,4]])\n",
    "print(arr2.ndim)\n",
    "print(arr2.shape)"
   ]
  },
  {
   "cell_type": "markdown",
   "metadata": {},
   "source": [
    "Q: how to get total elemants in an array\n",
    "\n",
    "#Array can have as many dimensions as we can as long as memory supports"
   ]
  },
  {
   "cell_type": "code",
   "execution_count": 7,
   "metadata": {},
   "outputs": [
    {
     "data": {
      "text/plain": [
       "(10,)"
      ]
     },
     "execution_count": 7,
     "metadata": {},
     "output_type": "execute_result"
    }
   ],
   "source": [
    "# Method to create list directly\n",
    "arr = np.arange(10)\n",
    "arr.shape"
   ]
  },
  {
   "cell_type": "code",
   "execution_count": 8,
   "metadata": {},
   "outputs": [
    {
     "data": {
      "text/plain": [
       "array([1, 3])"
      ]
     },
     "execution_count": 8,
     "metadata": {},
     "output_type": "execute_result"
    }
   ],
   "source": [
    "arr = np.arange(1,5,2)\n",
    "arr"
   ]
  },
  {
   "cell_type": "code",
   "execution_count": 9,
   "metadata": {},
   "outputs": [
    {
     "data": {
      "text/plain": [
       "array([1. , 1.5, 2. , 2.5, 3. , 3.5, 4. , 4.5])"
      ]
     },
     "execution_count": 9,
     "metadata": {},
     "output_type": "execute_result"
    }
   ],
   "source": [
    "#stepsize in arange can have float step size which is not available in range function\n",
    "arr = np.arange(1,5,0.5)\n",
    "arr"
   ]
  },
  {
   "cell_type": "code",
   "execution_count": 10,
   "metadata": {},
   "outputs": [
    {
     "data": {
      "text/plain": [
       "array([  0, 100, 100,   3,   4])"
      ]
     },
     "execution_count": 10,
     "metadata": {},
     "output_type": "execute_result"
    }
   ],
   "source": [
    "#overwriting multiple elements\n",
    "arr = np.arange(5)\n",
    "arr[1:3] = 100\n",
    "arr"
   ]
  },
  {
   "cell_type": "code",
   "execution_count": 11,
   "metadata": {},
   "outputs": [
    {
     "name": "stdout",
     "output_type": "stream",
     "text": [
      "[0 1 2 3 4 5 6 7 8 9]\n",
      "[ 5  6  7  8  9 10 11 12 13 14]\n"
     ]
    }
   ],
   "source": [
    "arr = np.arange(10)\n",
    "print(arr)\n",
    "arr += 5    #adding 5 to each element in array\n",
    "print(arr)"
   ]
  },
  {
   "cell_type": "code",
   "execution_count": 12,
   "metadata": {},
   "outputs": [
    {
     "name": "stdout",
     "output_type": "stream",
     "text": [
      "int32\n",
      "float64\n"
     ]
    }
   ],
   "source": [
    "#checking datatype of array\n",
    "arr = np.arange(5)\n",
    "print(arr.dtype)\n",
    "arr = np.array([1,2,3,4.0])\n",
    "print(arr.dtype)"
   ]
  },
  {
   "cell_type": "code",
   "execution_count": 13,
   "metadata": {},
   "outputs": [
    {
     "name": "stdout",
     "output_type": "stream",
     "text": [
      "float64\n",
      "int32\n",
      "[1 2 3 4]\n"
     ]
    }
   ],
   "source": [
    "#we can hardcode datatype while creating an array while using np.array function\n",
    "arr = np.array([1,2,3,4], dtype = 'float')\n",
    "print(arr.dtype)\n",
    "arr = np.array([1,2,3,4.5], dtype = 'int')\n",
    "print(arr.dtype)\n",
    "print(arr)\n"
   ]
  },
  {
   "cell_type": "code",
   "execution_count": 14,
   "metadata": {},
   "outputs": [
    {
     "name": "stdout",
     "output_type": "stream",
     "text": [
      "<U1\n",
      "int32\n"
     ]
    }
   ],
   "source": [
    "#convert existing array to different datatype\n",
    "arr = np.array(['1','2'])\n",
    "print(arr.dtype)\n",
    "arr = arr.astype('int')\n",
    "print(arr.dtype)"
   ]
  },
  {
   "cell_type": "markdown",
   "metadata": {},
   "source": [
    "Indexing"
   ]
  },
  {
   "cell_type": "code",
   "execution_count": 21,
   "metadata": {},
   "outputs": [
    {
     "name": "stdout",
     "output_type": "stream",
     "text": [
      "[ 0  1  2  3  4  5  6  7  8  9 10 11]\n",
      "0\n",
      "11\n",
      "[2 3 6]\n",
      "[2 3 6 3]\n"
     ]
    }
   ],
   "source": [
    "m = np.arange(12)\n",
    "print(m)\n",
    "print(m[0])\n",
    "print(m[-1])\n",
    "print(m[[2,3,6]]) #accessing multiple elements with indexing\n",
    "print(m[[2,3,6,3]])"
   ]
  },
  {
   "cell_type": "code",
   "execution_count": null,
   "metadata": {},
   "outputs": [],
   "source": []
  }
 ],
 "metadata": {
  "kernelspec": {
   "display_name": "base",
   "language": "python",
   "name": "python3"
  },
  "language_info": {
   "codemirror_mode": {
    "name": "ipython",
    "version": 3
   },
   "file_extension": ".py",
   "mimetype": "text/x-python",
   "name": "python",
   "nbconvert_exporter": "python",
   "pygments_lexer": "ipython3",
   "version": "3.12.4"
  }
 },
 "nbformat": 4,
 "nbformat_minor": 2
}
