{
 "cells": [
  {
   "cell_type": "markdown",
   "metadata": {},
   "source": [
    "Mindset\n",
    "\n",
    "-Evaluation will be kept lenient, so make sure you attempt this case study.\n",
    "\n",
    "-Read the question carefully and try to understand what exactly is being asked.\n",
    "\n",
    "-Brainstorm a little. If you’re getting an error, remember that Google is your best friend.\n",
    "\n",
    "-You can watch the lecture recordings or go through your lecture notes once again if you feel like you’re getting confused over some specific topics.\n",
    "\n",
    "-Discuss your problems with your peers. Make use of the Slack channel and WhatsApp group.\n",
    "\n",
    "-Only if you think that there’s a major issue, you can reach out to your Instructor via Slack or Email.\n",
    "\n",
    "-There is no right or wrong answer. We have to get used to dealing with uncertainty in business. This is exactly the skill we want to develop.\n",
    "\n",
    "\n",
    "#About NETFLIX\n",
    "\n",
    "Netflix is one of the most popular media and video streaming platforms. They have over 10000 movies or tv shows available on their platform, as of mid-2021, they have over 222M Subscribers globally. This tabular dataset consists of listings of all the movies and tv shows available on Netflix, along with details such as - cast, directors, ratings, release year, duration, etc.\n",
    "\n",
    "Business Problem\n",
    "\n",
    "Analyze the data and generate insights that could help Netflix ijn deciding which type of shows/movies to produce and how they can grow the business in different countries\n",
    "\n",
    "Dataset\n",
    "\n",
    "Link: Dataset_link\n",
    "\n",
    "(After clicking on the above link, you can download the files by right-clicking on the page and clicking on \"Save As\", then naming the file as per your wish, with .csv as the extension.)\n",
    "\n",
    "The dataset provided to you consists of a list of all the TV shows/movies available on Netflix:\n",
    "\n",
    "Show_id: Unique ID for every Movie / Tv Show\n",
    "Type: Identifier - A Movie or TV Show\n",
    "Title: Title of the Movie / Tv Show\n",
    "Director: Director of the Movie\n",
    "Cast: Actors involved in the movie/show\n",
    "Country: Country where the movie/show was produced\n",
    "Date_added: Date it was added on Netflix\n",
    "Release_year: Actual Release year of the movie/show\n",
    "Rating: TV Rating of the movie/show\n",
    "Duration: Total Duration - in minutes or number of seasons\n",
    "Listed_in: Genre\n",
    "Description: The summary description\n",
    "\n",
    "Hints\n",
    "\n",
    "The exploration should have a goal. As you explore the data, keep in mind that you want to answer which type of shows to produce and how to grow the business.\n",
    "Ensure each recommendation is backed by data. The company is looking for data-driven insights, not personal opinions or anecdotes.\n",
    "Assume that you are presenting your findings to business executives who have only a basic understanding of data science. Avoid unnecessary technical jargon.\n",
    "Start by exploring a few questions: What type of content is available in different countries?\n",
    "How has the number of movies released per year changed over the last 20-30 years?\n",
    "Comparison of tv shows vs. movies.\n",
    "What is the best time to launch a TV show?\n",
    "Analysis of actors/directors of different types of shows/movies.\n",
    "Does Netflix has more focus on TV Shows than movies in recent years\n",
    "Understanding what content is available in different countries\n",
    "Evaluation Criteria (100 Points):\n",
    "\n",
    "1. Defining Problem Statement and Analysing basic metrics (10 Points)\n",
    "\n",
    "2. Observations on the shape of data, data types of all the attributes, conversion of categorical attributes to 'category' (If required), missing value detection, statistical summary (10 Points)\n",
    "\n",
    "3. Non-Graphical Analysis: Value counts and unique attributes ​​(10 Points)\n",
    "\n",
    "4. Visual Analysis - Univariate, Bivariate after pre-processing of the data\n",
    "\n",
    "Note: Pre-processing involves unnesting of the data in columns like Actor, Director, Country\n",
    "\n",
    "4.1 For continuous variable(s): Distplot, countplot, histogram for univariate analysis (10 Points)\n",
    "\n",
    "4.2 For categorical variable(s): Boxplot (10 Points)\n",
    "\n",
    "4.3 For correlation: Heatmaps, Pairplots (10 Points)\n",
    "\n",
    "5. Missing Value & Outlier check (Treatment optional) (10 Points)\n",
    "\n",
    "6. Insights based on Non-Graphical and Visual Analysis (10 Points)\n",
    "\n",
    "6.1 Comments on the range of attributes\n",
    "\n",
    "6.2 Comments on the distribution of the variables and relationship between them\n",
    "\n",
    "6.3 Comments for each univariate and bivariate plot\n",
    "\n",
    "7. Business Insights (10 Points) - Should include patterns observed in the data along with what you can infer from it\n",
    "\n",
    "8. Recommendations (10 Points) - Actionable items for business. No technical jargon. No complications. Simple action items that everyone can understand\n",
    "\n",
    "Submission Process:\n",
    "\n",
    "Type your insights and recommendations in the rich-text editor.\n",
    "Convert your jupyter notebook into PDF (Save as PDF using Chrome browser’s Print command), upload it in your Google Drive (set the permission to allow public access), and paste that link in the text editor.\n",
    "Alternatively, you can directly submit your PDF on the portal.\n",
    "Optionally, you may add images/graphs in the text editor by taking screenshots or saving matplotlib graphs using plt.savefig(...).\n",
    "After submitting, you will not be allowed to edit your submission."
   ]
  },
  {
   "cell_type": "code",
   "execution_count": 140,
   "metadata": {},
   "outputs": [
    {
     "data": {
      "text/html": [
       "<div>\n",
       "<style scoped>\n",
       "    .dataframe tbody tr th:only-of-type {\n",
       "        vertical-align: middle;\n",
       "    }\n",
       "\n",
       "    .dataframe tbody tr th {\n",
       "        vertical-align: top;\n",
       "    }\n",
       "\n",
       "    .dataframe thead th {\n",
       "        text-align: right;\n",
       "    }\n",
       "</style>\n",
       "<table border=\"1\" class=\"dataframe\">\n",
       "  <thead>\n",
       "    <tr style=\"text-align: right;\">\n",
       "      <th></th>\n",
       "      <th>show_id</th>\n",
       "      <th>type</th>\n",
       "      <th>title</th>\n",
       "      <th>director</th>\n",
       "      <th>cast</th>\n",
       "      <th>country</th>\n",
       "      <th>date_added</th>\n",
       "      <th>release_year</th>\n",
       "      <th>rating</th>\n",
       "      <th>duration</th>\n",
       "      <th>listed_in</th>\n",
       "      <th>description</th>\n",
       "    </tr>\n",
       "  </thead>\n",
       "  <tbody>\n",
       "    <tr>\n",
       "      <th>0</th>\n",
       "      <td>s1</td>\n",
       "      <td>Movie</td>\n",
       "      <td>Dick Johnson Is Dead</td>\n",
       "      <td>Kirsten Johnson</td>\n",
       "      <td>NaN</td>\n",
       "      <td>United States</td>\n",
       "      <td>September 25, 2021</td>\n",
       "      <td>2020</td>\n",
       "      <td>PG-13</td>\n",
       "      <td>90 min</td>\n",
       "      <td>Documentaries</td>\n",
       "      <td>As her father nears the end of his life, filmm...</td>\n",
       "    </tr>\n",
       "    <tr>\n",
       "      <th>1</th>\n",
       "      <td>s2</td>\n",
       "      <td>TV Show</td>\n",
       "      <td>Blood &amp; Water</td>\n",
       "      <td>NaN</td>\n",
       "      <td>Ama Qamata, Khosi Ngema, Gail Mabalane, Thaban...</td>\n",
       "      <td>South Africa</td>\n",
       "      <td>September 24, 2021</td>\n",
       "      <td>2021</td>\n",
       "      <td>TV-MA</td>\n",
       "      <td>2 Seasons</td>\n",
       "      <td>International TV Shows, TV Dramas, TV Mysteries</td>\n",
       "      <td>After crossing paths at a party, a Cape Town t...</td>\n",
       "    </tr>\n",
       "    <tr>\n",
       "      <th>2</th>\n",
       "      <td>s3</td>\n",
       "      <td>TV Show</td>\n",
       "      <td>Ganglands</td>\n",
       "      <td>Julien Leclercq</td>\n",
       "      <td>Sami Bouajila, Tracy Gotoas, Samuel Jouy, Nabi...</td>\n",
       "      <td>NaN</td>\n",
       "      <td>September 24, 2021</td>\n",
       "      <td>2021</td>\n",
       "      <td>TV-MA</td>\n",
       "      <td>1 Season</td>\n",
       "      <td>Crime TV Shows, International TV Shows, TV Act...</td>\n",
       "      <td>To protect his family from a powerful drug lor...</td>\n",
       "    </tr>\n",
       "    <tr>\n",
       "      <th>3</th>\n",
       "      <td>s4</td>\n",
       "      <td>TV Show</td>\n",
       "      <td>Jailbirds New Orleans</td>\n",
       "      <td>NaN</td>\n",
       "      <td>NaN</td>\n",
       "      <td>NaN</td>\n",
       "      <td>September 24, 2021</td>\n",
       "      <td>2021</td>\n",
       "      <td>TV-MA</td>\n",
       "      <td>1 Season</td>\n",
       "      <td>Docuseries, Reality TV</td>\n",
       "      <td>Feuds, flirtations and toilet talk go down amo...</td>\n",
       "    </tr>\n",
       "    <tr>\n",
       "      <th>4</th>\n",
       "      <td>s5</td>\n",
       "      <td>TV Show</td>\n",
       "      <td>Kota Factory</td>\n",
       "      <td>NaN</td>\n",
       "      <td>Mayur More, Jitendra Kumar, Ranjan Raj, Alam K...</td>\n",
       "      <td>India</td>\n",
       "      <td>September 24, 2021</td>\n",
       "      <td>2021</td>\n",
       "      <td>TV-MA</td>\n",
       "      <td>2 Seasons</td>\n",
       "      <td>International TV Shows, Romantic TV Shows, TV ...</td>\n",
       "      <td>In a city of coaching centers known to train I...</td>\n",
       "    </tr>\n",
       "  </tbody>\n",
       "</table>\n",
       "</div>"
      ],
      "text/plain": [
       "  show_id     type                  title         director  \\\n",
       "0      s1    Movie   Dick Johnson Is Dead  Kirsten Johnson   \n",
       "1      s2  TV Show          Blood & Water              NaN   \n",
       "2      s3  TV Show              Ganglands  Julien Leclercq   \n",
       "3      s4  TV Show  Jailbirds New Orleans              NaN   \n",
       "4      s5  TV Show           Kota Factory              NaN   \n",
       "\n",
       "                                                cast        country  \\\n",
       "0                                                NaN  United States   \n",
       "1  Ama Qamata, Khosi Ngema, Gail Mabalane, Thaban...   South Africa   \n",
       "2  Sami Bouajila, Tracy Gotoas, Samuel Jouy, Nabi...            NaN   \n",
       "3                                                NaN            NaN   \n",
       "4  Mayur More, Jitendra Kumar, Ranjan Raj, Alam K...          India   \n",
       "\n",
       "           date_added  release_year rating   duration  \\\n",
       "0  September 25, 2021          2020  PG-13     90 min   \n",
       "1  September 24, 2021          2021  TV-MA  2 Seasons   \n",
       "2  September 24, 2021          2021  TV-MA   1 Season   \n",
       "3  September 24, 2021          2021  TV-MA   1 Season   \n",
       "4  September 24, 2021          2021  TV-MA  2 Seasons   \n",
       "\n",
       "                                           listed_in  \\\n",
       "0                                      Documentaries   \n",
       "1    International TV Shows, TV Dramas, TV Mysteries   \n",
       "2  Crime TV Shows, International TV Shows, TV Act...   \n",
       "3                             Docuseries, Reality TV   \n",
       "4  International TV Shows, Romantic TV Shows, TV ...   \n",
       "\n",
       "                                         description  \n",
       "0  As her father nears the end of his life, filmm...  \n",
       "1  After crossing paths at a party, a Cape Town t...  \n",
       "2  To protect his family from a powerful drug lor...  \n",
       "3  Feuds, flirtations and toilet talk go down amo...  \n",
       "4  In a city of coaching centers known to train I...  "
      ]
     },
     "execution_count": 140,
     "metadata": {},
     "output_type": "execute_result"
    }
   ],
   "source": [
    "import numpy as np\n",
    "import pandas as pd\n",
    "import matplotlib.pyplot as plt\n",
    "import seaborn as sns\n",
    "# df = pd.read_csv(\"https://d2beiqkhq929f0.cloudfront.net/public_assets/assets/000/000/940/original/netflix.csv\")\n",
    "df = pd.read_csv(r'C:\\Users\\Vaibhav\\Desktop\\Netflix Case study\\Netflix.csv')\n",
    "df.head()"
   ]
  },
  {
   "cell_type": "code",
   "execution_count": 141,
   "metadata": {},
   "outputs": [],
   "source": [
    "# df.to_csv(r\"C:\\Users\\Vaibhav\\Desktop\\Netflix Case study\\Netflix.csv\",index=False)\n",
    "#saved file to local drive to extract if needed in later stage"
   ]
  },
  {
   "cell_type": "markdown",
   "metadata": {},
   "source": [
    "DEFINING PROBLEM STATEMENT:\n",
    "\n",
    "-Problem statement consists of analysing existing data and analysing region-wise what are the various parameters which makes a show succesful.\n",
    "\n",
    "These parameters may be type, duration, listed_in, dierctor, cast.\n",
    "\n",
    "we also need to analyse the trend which is being followed / change over time."
   ]
  },
  {
   "cell_type": "code",
   "execution_count": 142,
   "metadata": {},
   "outputs": [
    {
     "name": "stdout",
     "output_type": "stream",
     "text": [
      "(8807, 12)\n"
     ]
    }
   ],
   "source": [
    "print(df.shape)"
   ]
  },
  {
   "cell_type": "markdown",
   "metadata": {},
   "source": [
    "Above shape of data shows that we have about 9000 entries which may provide a sufficiently large enough data set to begin our analysis acress categories, region and type."
   ]
  },
  {
   "cell_type": "code",
   "execution_count": 143,
   "metadata": {},
   "outputs": [
    {
     "name": "stdout",
     "output_type": "stream",
     "text": [
      "show_id          0.000000\n",
      "type             0.000000\n",
      "title            0.000000\n",
      "director        29.908028\n",
      "cast             9.367549\n",
      "country          9.435676\n",
      "date_added       0.113546\n",
      "release_year     0.000000\n",
      "rating           0.045418\n",
      "duration         0.034064\n",
      "listed_in        0.000000\n",
      "description      0.000000\n",
      "dtype: float64\n"
     ]
    }
   ],
   "source": [
    "print(df.isna().sum()/df.shape[0]*100)"
   ]
  },
  {
   "cell_type": "markdown",
   "metadata": {},
   "source": [
    "From above result we can infer that the data set contains some missing values.\n",
    "\n",
    "For Example:\n",
    "\n",
    "around 30% of entries doesn't have directors data.\n",
    "\n",
    "around 10% of entries doesn't have cast or countries data\n",
    "\n",
    "Lets analyse each columns individually to get more insights on Same data"
   ]
  },
  {
   "cell_type": "code",
   "execution_count": 144,
   "metadata": {},
   "outputs": [
    {
     "name": "stdout",
     "output_type": "stream",
     "text": [
      "show_id\n",
      "s1       1\n",
      "s5875    1\n",
      "s5869    1\n",
      "s5870    1\n",
      "s5871    1\n",
      "        ..\n",
      "s2931    1\n",
      "s2930    1\n",
      "s2929    1\n",
      "s2928    1\n",
      "s8807    1\n",
      "Name: count, Length: 8807, dtype: int64\n",
      "type\n",
      "Movie      6131\n",
      "TV Show    2676\n",
      "Name: count, dtype: int64\n",
      "title\n",
      "Dick Johnson Is Dead                     1\n",
      "Ip Man 2                                 1\n",
      "Hannibal Buress: Comedy Camisado         1\n",
      "Turbo FAST                               1\n",
      "Masha's Tales                            1\n",
      "                                        ..\n",
      "Love for Sale 2                          1\n",
      "ROAD TO ROMA                             1\n",
      "Good Time                                1\n",
      "Captain Underpants Epic Choice-o-Rama    1\n",
      "Zubaan                                   1\n",
      "Name: count, Length: 8807, dtype: int64\n",
      "director\n",
      "Rajiv Chilaka                     19\n",
      "Raúl Campos, Jan Suter            18\n",
      "Marcus Raboy                      16\n",
      "Suhas Kadav                       16\n",
      "Jay Karas                         14\n",
      "                                  ..\n",
      "Raymie Muzquiz, Stu Livingston     1\n",
      "Joe Menendez                       1\n",
      "Eric Bross                         1\n",
      "Will Eisenberg                     1\n",
      "Mozez Singh                        1\n",
      "Name: count, Length: 4528, dtype: int64\n",
      "cast\n",
      "David Attenborough                                                                                                                                                                            19\n",
      "Vatsal Dubey, Julie Tejwani, Rupa Bhimani, Jigna Bhardwaj, Rajesh Kava, Mousam, Swapnil                                                                                                       14\n",
      "Samuel West                                                                                                                                                                                   10\n",
      "Jeff Dunham                                                                                                                                                                                    7\n",
      "David Spade, London Hughes, Fortune Feimster                                                                                                                                                   6\n",
      "                                                                                                                                                                                              ..\n",
      "Michael Peña, Diego Luna, Tenoch Huerta, Joaquin Cosio, José María Yazpik, Matt Letscher, Alyssa Diaz                                                                                          1\n",
      "Nick Lachey, Vanessa Lachey                                                                                                                                                                    1\n",
      "Takeru Sato, Kasumi Arimura, Haru, Kentaro Sakaguchi, Takayuki Yamada, Kendo Kobayashi, Ken Yasuda, Arata Furuta, Suzuki Matsuo, Koichi Yamadera, Arata Iura, Chikako Kaku, Kotaro Yoshida     1\n",
      "Toyin Abraham, Sambasa Nzeribe, Chioma Chukwuka Akpotha, Chioma Omeruah, Chiwetalu Agu, Dele Odule, Femi Adebayo, Bayray McNwizu, Biodun Stephen                                               1\n",
      "Vicky Kaushal, Sarah-Jane Dias, Raaghav Chanana, Manish Chaudhary, Meghna Malik, Malkeet Rauni, Anita Shabdish, Chittaranjan Tripathy                                                          1\n",
      "Name: count, Length: 7692, dtype: int64\n",
      "country\n",
      "United States                             2818\n",
      "India                                      972\n",
      "United Kingdom                             419\n",
      "Japan                                      245\n",
      "South Korea                                199\n",
      "                                          ... \n",
      "Romania, Bulgaria, Hungary                   1\n",
      "Uruguay, Guatemala                           1\n",
      "France, Senegal, Belgium                     1\n",
      "Mexico, United States, Spain, Colombia       1\n",
      "United Arab Emirates, Jordan                 1\n",
      "Name: count, Length: 748, dtype: int64\n",
      "date_added\n",
      "January 1, 2020      109\n",
      "November 1, 2019      89\n",
      "March 1, 2018         75\n",
      "December 31, 2019     74\n",
      "October 1, 2018       71\n",
      "                    ... \n",
      "December 4, 2016       1\n",
      "November 21, 2016      1\n",
      "November 19, 2016      1\n",
      "November 17, 2016      1\n",
      "January 11, 2020       1\n",
      "Name: count, Length: 1767, dtype: int64\n",
      "release_year\n",
      "2018    1147\n",
      "2017    1032\n",
      "2019    1030\n",
      "2020     953\n",
      "2016     902\n",
      "        ... \n",
      "1959       1\n",
      "1925       1\n",
      "1961       1\n",
      "1947       1\n",
      "1966       1\n",
      "Name: count, Length: 74, dtype: int64\n",
      "rating\n",
      "TV-MA       3207\n",
      "TV-14       2160\n",
      "TV-PG        863\n",
      "R            799\n",
      "PG-13        490\n",
      "TV-Y7        334\n",
      "TV-Y         307\n",
      "PG           287\n",
      "TV-G         220\n",
      "NR            80\n",
      "G             41\n",
      "TV-Y7-FV       6\n",
      "NC-17          3\n",
      "UR             3\n",
      "74 min         1\n",
      "84 min         1\n",
      "66 min         1\n",
      "Name: count, dtype: int64\n",
      "duration\n",
      "1 Season     1793\n",
      "2 Seasons     425\n",
      "3 Seasons     199\n",
      "90 min        152\n",
      "94 min        146\n",
      "             ... \n",
      "16 min          1\n",
      "186 min         1\n",
      "193 min         1\n",
      "189 min         1\n",
      "191 min         1\n",
      "Name: count, Length: 220, dtype: int64\n",
      "listed_in\n",
      "Dramas, International Movies                          362\n",
      "Documentaries                                         359\n",
      "Stand-Up Comedy                                       334\n",
      "Comedies, Dramas, International Movies                274\n",
      "Dramas, Independent Movies, International Movies      252\n",
      "                                                     ... \n",
      "Kids' TV, TV Action & Adventure, TV Dramas              1\n",
      "TV Comedies, TV Dramas, TV Horror                       1\n",
      "Children & Family Movies, Comedies, LGBTQ Movies        1\n",
      "Kids' TV, Spanish-Language TV Shows, Teen TV Shows      1\n",
      "Cult Movies, Dramas, Thrillers                          1\n",
      "Name: count, Length: 514, dtype: int64\n",
      "description\n",
      "Paranormal activity at a lush, abandoned property alarms a group eager to redevelop the site, but the eerie events may not be as unearthly as they think.    4\n",
      "Challenged to compose 100 songs before he can marry the girl he loves, a tortured but passionate singer-songwriter embarks on a poignant musical journey.    3\n",
      "A surly septuagenarian gets another chance at her 20s after having her photo snapped at a studio that magically takes 50 years off her life.                 3\n",
      "Multiple women report their husbands as missing but when it appears they are looking for the same man, a police officer traces their cryptic connection.     3\n",
      "Secrets bubble to the surface after a sensual encounter and an unforeseen crime entangle two friends and a woman caught between them.                        2\n",
      "                                                                                                                                                            ..\n",
      "Sent away to evade an arranged marriage, a 14-year-old begins a harrowing journey of sex work and poverty in the slums of Accra.                             1\n",
      "When his partner in crime goes missing, a small-time crook’s life is transformed as he dedicates himself to raising the daughter his friend left behind.     1\n",
      "During 1962’s Cuban missile crisis, a troubled math genius finds himself drafted to play in a U.S.-Soviet chess match – and a deadly game of espionage.      1\n",
      "A teen's discovery of a vintage Polaroid camera develops into a darker tale when she finds that whoever takes their photo with it dies soon afterward.       1\n",
      "A scrappy but poor boy worms his way into a tycoon's dysfunctional family, while facing his fear of music and the truth about his past.                      1\n",
      "Name: count, Length: 8775, dtype: int64\n"
     ]
    }
   ],
   "source": [
    "for i in range(df.shape[1]):\n",
    "    print(df[df.columns[i]].value_counts())"
   ]
  },
  {
   "cell_type": "markdown",
   "metadata": {},
   "source": [
    "Observations: by count we can only make any observations in categorical columns such as type, rating etc and not anu numerical data like duration\n",
    "\n",
    "show_id: we can see that there are no duplicate value in show_id, hence it can be used as an index but for now we will leave it as it is\n",
    "\n",
    "type: as we can see that there are far more movies count (6131) as compared to TV shows (2676).\n",
    "\n",
    "title: Skipping this as just like show_id, titles are also unique\n",
    "\n",
    "Directors: as we can see, most shows made by a single directior is 19, we will plot distribution along this columns in future to analyse further.\n",
    "\n",
    "Cast/country/listed_in: Need to unpack the data as combination is also taken as unique. hence skipping it for now.\n",
    "\n",
    "Date added, duration: being continuous data in nature will not be considered for count analysis.\n",
    "\n",
    "release_Year: we can observe that there is a spike in number of titles in 2018 which is 1147 which is hish that both 2017 (1032 titles) and 2019 (1030) titles. we will deep down into this in future\n",
    "\n",
    "rating: needs cleaning as rating includes data such as '74 min', '84 min'. Also TV-MA and TV-14 has highest titles which is 3207 and 2160 respectively.\n",
    "\n",
    "duration: to analyse this first we need to seperate both movies and TV show as unit of measurements are different in both type (seasons in case of TV show and mins in case of movies).\n",
    "\n",
    "description: Surprisingly we see that description are repeating which may suggest that same titles are being repeated multiple times. Need to dive deep and analyse repeating titles."
   ]
  },
  {
   "cell_type": "code",
   "execution_count": 145,
   "metadata": {},
   "outputs": [
    {
     "data": {
      "text/html": [
       "<div>\n",
       "<style scoped>\n",
       "    .dataframe tbody tr th:only-of-type {\n",
       "        vertical-align: middle;\n",
       "    }\n",
       "\n",
       "    .dataframe tbody tr th {\n",
       "        vertical-align: top;\n",
       "    }\n",
       "\n",
       "    .dataframe thead th {\n",
       "        text-align: right;\n",
       "    }\n",
       "</style>\n",
       "<table border=\"1\" class=\"dataframe\">\n",
       "  <thead>\n",
       "    <tr style=\"text-align: right;\">\n",
       "      <th></th>\n",
       "      <th>show_id</th>\n",
       "      <th>type</th>\n",
       "      <th>title</th>\n",
       "      <th>director</th>\n",
       "      <th>cast</th>\n",
       "      <th>country</th>\n",
       "      <th>date_added</th>\n",
       "      <th>release_year</th>\n",
       "      <th>rating</th>\n",
       "      <th>duration</th>\n",
       "      <th>listed_in</th>\n",
       "      <th>description</th>\n",
       "    </tr>\n",
       "  </thead>\n",
       "  <tbody>\n",
       "    <tr>\n",
       "      <th>78</th>\n",
       "      <td>s79</td>\n",
       "      <td>Movie</td>\n",
       "      <td>Tughlaq Durbar</td>\n",
       "      <td>Delhiprasad Deenadayalan</td>\n",
       "      <td>Vijay Sethupathi, Parthiban, Raashi Khanna</td>\n",
       "      <td>NaN</td>\n",
       "      <td>September 11, 2021</td>\n",
       "      <td>2020</td>\n",
       "      <td>TV-14</td>\n",
       "      <td>145 min</td>\n",
       "      <td>Comedies, Dramas, International Movies</td>\n",
       "      <td>A budding politician has devious plans to rise...</td>\n",
       "    </tr>\n",
       "    <tr>\n",
       "      <th>79</th>\n",
       "      <td>s80</td>\n",
       "      <td>Movie</td>\n",
       "      <td>Tughlaq Durbar (Telugu)</td>\n",
       "      <td>Delhiprasad Deenadayalan</td>\n",
       "      <td>Vijay Sethupathi, Parthiban, Raashi Khanna</td>\n",
       "      <td>NaN</td>\n",
       "      <td>September 11, 2021</td>\n",
       "      <td>2021</td>\n",
       "      <td>TV-14</td>\n",
       "      <td>145 min</td>\n",
       "      <td>Comedies, Dramas, International Movies</td>\n",
       "      <td>A budding politician has devious plans to rise...</td>\n",
       "    </tr>\n",
       "    <tr>\n",
       "      <th>7022</th>\n",
       "      <td>s7023</td>\n",
       "      <td>Movie</td>\n",
       "      <td>Hum Saath-Saath Hain</td>\n",
       "      <td>Sooraj R. Barjatya</td>\n",
       "      <td>Salman Khan, Karisma Kapoor, Saif Ali Khan, Ta...</td>\n",
       "      <td>India</td>\n",
       "      <td>January 1, 2018</td>\n",
       "      <td>1999</td>\n",
       "      <td>TV-G</td>\n",
       "      <td>176 min</td>\n",
       "      <td>Dramas, International Movies, Music &amp; Musicals</td>\n",
       "      <td>A scheming matriarch plots to cut off her disa...</td>\n",
       "    </tr>\n",
       "    <tr>\n",
       "      <th>2969</th>\n",
       "      <td>s2970</td>\n",
       "      <td>Movie</td>\n",
       "      <td>Together For Eternity</td>\n",
       "      <td>Sooraj R. Barjatya</td>\n",
       "      <td>Salman Khan, Karisma Kapoor, Saif Ali Khan, Ta...</td>\n",
       "      <td>India</td>\n",
       "      <td>February 1, 2020</td>\n",
       "      <td>1999</td>\n",
       "      <td>TV-G</td>\n",
       "      <td>176 min</td>\n",
       "      <td>Dramas, International Movies, Music &amp; Musicals</td>\n",
       "      <td>A scheming matriarch plots to cut off her disa...</td>\n",
       "    </tr>\n",
       "    <tr>\n",
       "      <th>3492</th>\n",
       "      <td>s3493</td>\n",
       "      <td>Movie</td>\n",
       "      <td>Oh! Baby (Malayalam)</td>\n",
       "      <td>B. V. Nandini Reddy</td>\n",
       "      <td>Samantha Ruth Prabhu, Lakshmi, Rajendraprasad,...</td>\n",
       "      <td>NaN</td>\n",
       "      <td>September 25, 2019</td>\n",
       "      <td>2019</td>\n",
       "      <td>TV-14</td>\n",
       "      <td>146 min</td>\n",
       "      <td>Comedies, International Movies, Music &amp; Musicals</td>\n",
       "      <td>A surly septuagenarian gets another chance at ...</td>\n",
       "    </tr>\n",
       "  </tbody>\n",
       "</table>\n",
       "</div>"
      ],
      "text/plain": [
       "     show_id   type                    title                  director  \\\n",
       "78       s79  Movie           Tughlaq Durbar  Delhiprasad Deenadayalan   \n",
       "79       s80  Movie  Tughlaq Durbar (Telugu)  Delhiprasad Deenadayalan   \n",
       "7022   s7023  Movie     Hum Saath-Saath Hain        Sooraj R. Barjatya   \n",
       "2969   s2970  Movie    Together For Eternity        Sooraj R. Barjatya   \n",
       "3492   s3493  Movie     Oh! Baby (Malayalam)       B. V. Nandini Reddy   \n",
       "\n",
       "                                                   cast country  \\\n",
       "78           Vijay Sethupathi, Parthiban, Raashi Khanna     NaN   \n",
       "79           Vijay Sethupathi, Parthiban, Raashi Khanna     NaN   \n",
       "7022  Salman Khan, Karisma Kapoor, Saif Ali Khan, Ta...   India   \n",
       "2969  Salman Khan, Karisma Kapoor, Saif Ali Khan, Ta...   India   \n",
       "3492  Samantha Ruth Prabhu, Lakshmi, Rajendraprasad,...     NaN   \n",
       "\n",
       "              date_added  release_year rating duration  \\\n",
       "78    September 11, 2021          2020  TV-14  145 min   \n",
       "79    September 11, 2021          2021  TV-14  145 min   \n",
       "7022     January 1, 2018          1999   TV-G  176 min   \n",
       "2969    February 1, 2020          1999   TV-G  176 min   \n",
       "3492  September 25, 2019          2019  TV-14  146 min   \n",
       "\n",
       "                                             listed_in  \\\n",
       "78              Comedies, Dramas, International Movies   \n",
       "79              Comedies, Dramas, International Movies   \n",
       "7022    Dramas, International Movies, Music & Musicals   \n",
       "2969    Dramas, International Movies, Music & Musicals   \n",
       "3492  Comedies, International Movies, Music & Musicals   \n",
       "\n",
       "                                            description  \n",
       "78    A budding politician has devious plans to rise...  \n",
       "79    A budding politician has devious plans to rise...  \n",
       "7022  A scheming matriarch plots to cut off her disa...  \n",
       "2969  A scheming matriarch plots to cut off her disa...  \n",
       "3492  A surly septuagenarian gets another chance at ...  "
      ]
     },
     "execution_count": 145,
     "metadata": {},
     "output_type": "execute_result"
    }
   ],
   "source": [
    "#checking titles having same description (description repeating more than once)\n",
    "sample = df[df.description.isin(df.description.value_counts()[df.description.value_counts()>1].index)]\n",
    "sample.sort_values(by=\"description\").head()"
   ]
  },
  {
   "cell_type": "markdown",
   "metadata": {},
   "source": []
  },
  {
   "cell_type": "markdown",
   "metadata": {},
   "source": [
    "We can see that same titles are repeated due to various reasons:\n",
    "\n",
    "1. same title released in multiple languages: Example \"bhoomika\"\n",
    "2. spelling of titles varies for some movies titles: \"Ollie & Moon\" and \"The Ollie & Moon Show\" which are essentially the same.\n",
    "3. rating changed over time, for example: \"Chashme Baddoor\" in May 2017 it was TV-PG, again added in July 2020 as TV-14."
   ]
  },
  {
   "cell_type": "code",
   "execution_count": 146,
   "metadata": {},
   "outputs": [
    {
     "data": {
      "text/html": [
       "<div>\n",
       "<style scoped>\n",
       "    .dataframe tbody tr th:only-of-type {\n",
       "        vertical-align: middle;\n",
       "    }\n",
       "\n",
       "    .dataframe tbody tr th {\n",
       "        vertical-align: top;\n",
       "    }\n",
       "\n",
       "    .dataframe thead th {\n",
       "        text-align: right;\n",
       "    }\n",
       "</style>\n",
       "<table border=\"1\" class=\"dataframe\">\n",
       "  <thead>\n",
       "    <tr style=\"text-align: right;\">\n",
       "      <th></th>\n",
       "      <th>show_id</th>\n",
       "      <th>type</th>\n",
       "      <th>title</th>\n",
       "      <th>director</th>\n",
       "      <th>cast</th>\n",
       "      <th>country</th>\n",
       "      <th>date_added</th>\n",
       "      <th>release_year</th>\n",
       "      <th>rating</th>\n",
       "      <th>duration</th>\n",
       "      <th>listed_in</th>\n",
       "      <th>description</th>\n",
       "    </tr>\n",
       "  </thead>\n",
       "  <tbody>\n",
       "    <tr>\n",
       "      <th>0</th>\n",
       "      <td>s1</td>\n",
       "      <td>Movie</td>\n",
       "      <td>Dick Johnson Is Dead</td>\n",
       "      <td>Kirsten Johnson</td>\n",
       "      <td>NaN</td>\n",
       "      <td>United States</td>\n",
       "      <td>September 25, 2021</td>\n",
       "      <td>2020</td>\n",
       "      <td>PG-13</td>\n",
       "      <td>90 min</td>\n",
       "      <td>Documentaries</td>\n",
       "      <td>As her father nears the end of his life, filmm...</td>\n",
       "    </tr>\n",
       "    <tr>\n",
       "      <th>1</th>\n",
       "      <td>s2</td>\n",
       "      <td>TV Show</td>\n",
       "      <td>Blood &amp; Water</td>\n",
       "      <td>NaN</td>\n",
       "      <td>Ama Qamata, Khosi Ngema, Gail Mabalane, Thaban...</td>\n",
       "      <td>South Africa</td>\n",
       "      <td>September 24, 2021</td>\n",
       "      <td>2021</td>\n",
       "      <td>TV-MA</td>\n",
       "      <td>2 Seasons</td>\n",
       "      <td>International TV Shows, TV Dramas, TV Mysteries</td>\n",
       "      <td>After crossing paths at a party, a Cape Town t...</td>\n",
       "    </tr>\n",
       "    <tr>\n",
       "      <th>4</th>\n",
       "      <td>s5</td>\n",
       "      <td>TV Show</td>\n",
       "      <td>Kota Factory</td>\n",
       "      <td>NaN</td>\n",
       "      <td>Mayur More, Jitendra Kumar, Ranjan Raj, Alam K...</td>\n",
       "      <td>India</td>\n",
       "      <td>September 24, 2021</td>\n",
       "      <td>2021</td>\n",
       "      <td>TV-MA</td>\n",
       "      <td>2 Seasons</td>\n",
       "      <td>International TV Shows, Romantic TV Shows, TV ...</td>\n",
       "      <td>In a city of coaching centers known to train I...</td>\n",
       "    </tr>\n",
       "    <tr>\n",
       "      <th>7</th>\n",
       "      <td>s8</td>\n",
       "      <td>Movie</td>\n",
       "      <td>Sankofa</td>\n",
       "      <td>Haile Gerima</td>\n",
       "      <td>Kofi Ghanaba, Oyafunmike Ogunlano, Alexandra D...</td>\n",
       "      <td>United States, Ghana, Burkina Faso, United Kin...</td>\n",
       "      <td>September 24, 2021</td>\n",
       "      <td>1993</td>\n",
       "      <td>TV-MA</td>\n",
       "      <td>125 min</td>\n",
       "      <td>Dramas, Independent Movies, International Movies</td>\n",
       "      <td>On a photo shoot in Ghana, an American model s...</td>\n",
       "    </tr>\n",
       "    <tr>\n",
       "      <th>8</th>\n",
       "      <td>s9</td>\n",
       "      <td>TV Show</td>\n",
       "      <td>The Great British Baking Show</td>\n",
       "      <td>Andy Devonshire</td>\n",
       "      <td>Mel Giedroyc, Sue Perkins, Mary Berry, Paul Ho...</td>\n",
       "      <td>United Kingdom</td>\n",
       "      <td>September 24, 2021</td>\n",
       "      <td>2021</td>\n",
       "      <td>TV-14</td>\n",
       "      <td>9 Seasons</td>\n",
       "      <td>British TV Shows, Reality TV</td>\n",
       "      <td>A talented batch of amateur bakers face off in...</td>\n",
       "    </tr>\n",
       "  </tbody>\n",
       "</table>\n",
       "</div>"
      ],
      "text/plain": [
       "  show_id     type                          title         director  \\\n",
       "0      s1    Movie           Dick Johnson Is Dead  Kirsten Johnson   \n",
       "1      s2  TV Show                  Blood & Water              NaN   \n",
       "4      s5  TV Show                   Kota Factory              NaN   \n",
       "7      s8    Movie                        Sankofa     Haile Gerima   \n",
       "8      s9  TV Show  The Great British Baking Show  Andy Devonshire   \n",
       "\n",
       "                                                cast  \\\n",
       "0                                                NaN   \n",
       "1  Ama Qamata, Khosi Ngema, Gail Mabalane, Thaban...   \n",
       "4  Mayur More, Jitendra Kumar, Ranjan Raj, Alam K...   \n",
       "7  Kofi Ghanaba, Oyafunmike Ogunlano, Alexandra D...   \n",
       "8  Mel Giedroyc, Sue Perkins, Mary Berry, Paul Ho...   \n",
       "\n",
       "                                             country          date_added  \\\n",
       "0                                      United States  September 25, 2021   \n",
       "1                                       South Africa  September 24, 2021   \n",
       "4                                              India  September 24, 2021   \n",
       "7  United States, Ghana, Burkina Faso, United Kin...  September 24, 2021   \n",
       "8                                     United Kingdom  September 24, 2021   \n",
       "\n",
       "   release_year rating   duration  \\\n",
       "0          2020  PG-13     90 min   \n",
       "1          2021  TV-MA  2 Seasons   \n",
       "4          2021  TV-MA  2 Seasons   \n",
       "7          1993  TV-MA    125 min   \n",
       "8          2021  TV-14  9 Seasons   \n",
       "\n",
       "                                           listed_in  \\\n",
       "0                                      Documentaries   \n",
       "1    International TV Shows, TV Dramas, TV Mysteries   \n",
       "4  International TV Shows, Romantic TV Shows, TV ...   \n",
       "7   Dramas, Independent Movies, International Movies   \n",
       "8                       British TV Shows, Reality TV   \n",
       "\n",
       "                                         description  \n",
       "0  As her father nears the end of his life, filmm...  \n",
       "1  After crossing paths at a party, a Cape Town t...  \n",
       "4  In a city of coaching centers known to train I...  \n",
       "7  On a photo shoot in Ghana, an American model s...  \n",
       "8  A talented batch of amateur bakers face off in...  "
      ]
     },
     "execution_count": 146,
     "metadata": {},
     "output_type": "execute_result"
    }
   ],
   "source": [
    "df[df.country.notna()].head()"
   ]
  },
  {
   "cell_type": "markdown",
   "metadata": {},
   "source": [
    "### Cleaning Data"
   ]
  },
  {
   "cell_type": "code",
   "execution_count": 147,
   "metadata": {},
   "outputs": [
    {
     "data": {
      "text/html": [
       "<div>\n",
       "<style scoped>\n",
       "    .dataframe tbody tr th:only-of-type {\n",
       "        vertical-align: middle;\n",
       "    }\n",
       "\n",
       "    .dataframe tbody tr th {\n",
       "        vertical-align: top;\n",
       "    }\n",
       "\n",
       "    .dataframe thead th {\n",
       "        text-align: right;\n",
       "    }\n",
       "</style>\n",
       "<table border=\"1\" class=\"dataframe\">\n",
       "  <thead>\n",
       "    <tr style=\"text-align: right;\">\n",
       "      <th></th>\n",
       "      <th>show_id</th>\n",
       "      <th>country</th>\n",
       "    </tr>\n",
       "  </thead>\n",
       "  <tbody>\n",
       "    <tr>\n",
       "      <th>0</th>\n",
       "      <td>s1</td>\n",
       "      <td>United States</td>\n",
       "    </tr>\n",
       "    <tr>\n",
       "      <th>1</th>\n",
       "      <td>s2</td>\n",
       "      <td>South Africa</td>\n",
       "    </tr>\n",
       "    <tr>\n",
       "      <th>2</th>\n",
       "      <td>s3</td>\n",
       "      <td>NaN</td>\n",
       "    </tr>\n",
       "    <tr>\n",
       "      <th>3</th>\n",
       "      <td>s4</td>\n",
       "      <td>NaN</td>\n",
       "    </tr>\n",
       "    <tr>\n",
       "      <th>4</th>\n",
       "      <td>s5</td>\n",
       "      <td>India</td>\n",
       "    </tr>\n",
       "    <tr>\n",
       "      <th>5</th>\n",
       "      <td>s6</td>\n",
       "      <td>NaN</td>\n",
       "    </tr>\n",
       "    <tr>\n",
       "      <th>6</th>\n",
       "      <td>s7</td>\n",
       "      <td>NaN</td>\n",
       "    </tr>\n",
       "    <tr>\n",
       "      <th>7</th>\n",
       "      <td>s8</td>\n",
       "      <td>United States</td>\n",
       "    </tr>\n",
       "    <tr>\n",
       "      <th>7</th>\n",
       "      <td>s8</td>\n",
       "      <td>Ghana</td>\n",
       "    </tr>\n",
       "    <tr>\n",
       "      <th>7</th>\n",
       "      <td>s8</td>\n",
       "      <td>Burkina Faso</td>\n",
       "    </tr>\n",
       "  </tbody>\n",
       "</table>\n",
       "</div>"
      ],
      "text/plain": [
       "  show_id        country\n",
       "0      s1  United States\n",
       "1      s2   South Africa\n",
       "2      s3            NaN\n",
       "3      s4            NaN\n",
       "4      s5          India\n",
       "5      s6            NaN\n",
       "6      s7            NaN\n",
       "7      s8  United States\n",
       "7      s8          Ghana\n",
       "7      s8   Burkina Faso"
      ]
     },
     "execution_count": 147,
     "metadata": {},
     "output_type": "execute_result"
    }
   ],
   "source": [
    "ser_con = pd.Series(df.country.str.split(\",\"))\n",
    "df_con = pd.DataFrame([df.show_id, ser_con]).T\n",
    "df_con = df_con.explode(\"country\")\n",
    "df_con.show_id.value_counts()\n",
    "df_con.head(10)\n"
   ]
  },
  {
   "cell_type": "markdown",
   "metadata": {},
   "source": [
    "Creating sub dataset having all show Id and country along with it"
   ]
  },
  {
   "cell_type": "code",
   "execution_count": 148,
   "metadata": {},
   "outputs": [
    {
     "data": {
      "text/html": [
       "<div>\n",
       "<style scoped>\n",
       "    .dataframe tbody tr th:only-of-type {\n",
       "        vertical-align: middle;\n",
       "    }\n",
       "\n",
       "    .dataframe tbody tr th {\n",
       "        vertical-align: top;\n",
       "    }\n",
       "\n",
       "    .dataframe thead th {\n",
       "        text-align: right;\n",
       "    }\n",
       "</style>\n",
       "<table border=\"1\" class=\"dataframe\">\n",
       "  <thead>\n",
       "    <tr style=\"text-align: right;\">\n",
       "      <th></th>\n",
       "      <th>show_id</th>\n",
       "      <th>director</th>\n",
       "    </tr>\n",
       "  </thead>\n",
       "  <tbody>\n",
       "    <tr>\n",
       "      <th>0</th>\n",
       "      <td>s1</td>\n",
       "      <td>Kirsten Johnson</td>\n",
       "    </tr>\n",
       "    <tr>\n",
       "      <th>1</th>\n",
       "      <td>s2</td>\n",
       "      <td>NaN</td>\n",
       "    </tr>\n",
       "    <tr>\n",
       "      <th>2</th>\n",
       "      <td>s3</td>\n",
       "      <td>Julien Leclercq</td>\n",
       "    </tr>\n",
       "    <tr>\n",
       "      <th>3</th>\n",
       "      <td>s4</td>\n",
       "      <td>NaN</td>\n",
       "    </tr>\n",
       "    <tr>\n",
       "      <th>4</th>\n",
       "      <td>s5</td>\n",
       "      <td>NaN</td>\n",
       "    </tr>\n",
       "    <tr>\n",
       "      <th>5</th>\n",
       "      <td>s6</td>\n",
       "      <td>Mike Flanagan</td>\n",
       "    </tr>\n",
       "    <tr>\n",
       "      <th>6</th>\n",
       "      <td>s7</td>\n",
       "      <td>Robert Cullen</td>\n",
       "    </tr>\n",
       "    <tr>\n",
       "      <th>6</th>\n",
       "      <td>s7</td>\n",
       "      <td>José Luis Ucha</td>\n",
       "    </tr>\n",
       "    <tr>\n",
       "      <th>7</th>\n",
       "      <td>s8</td>\n",
       "      <td>Haile Gerima</td>\n",
       "    </tr>\n",
       "    <tr>\n",
       "      <th>8</th>\n",
       "      <td>s9</td>\n",
       "      <td>Andy Devonshire</td>\n",
       "    </tr>\n",
       "  </tbody>\n",
       "</table>\n",
       "</div>"
      ],
      "text/plain": [
       "  show_id         director\n",
       "0      s1  Kirsten Johnson\n",
       "1      s2              NaN\n",
       "2      s3  Julien Leclercq\n",
       "3      s4              NaN\n",
       "4      s5              NaN\n",
       "5      s6    Mike Flanagan\n",
       "6      s7    Robert Cullen\n",
       "6      s7   José Luis Ucha\n",
       "7      s8     Haile Gerima\n",
       "8      s9  Andy Devonshire"
      ]
     },
     "execution_count": 148,
     "metadata": {},
     "output_type": "execute_result"
    }
   ],
   "source": [
    "ser_dir = pd.Series(df.director.str.split(\",\"))\n",
    "df_dir = pd.DataFrame([df.show_id, ser_dir]).T\n",
    "df_dir = df_dir.explode(\"director\")\n",
    "df_dir.head(10)"
   ]
  },
  {
   "cell_type": "markdown",
   "metadata": {},
   "source": [
    "creating sub data set having show ID with directors"
   ]
  },
  {
   "cell_type": "code",
   "execution_count": 149,
   "metadata": {},
   "outputs": [
    {
     "data": {
      "text/html": [
       "<div>\n",
       "<style scoped>\n",
       "    .dataframe tbody tr th:only-of-type {\n",
       "        vertical-align: middle;\n",
       "    }\n",
       "\n",
       "    .dataframe tbody tr th {\n",
       "        vertical-align: top;\n",
       "    }\n",
       "\n",
       "    .dataframe thead th {\n",
       "        text-align: right;\n",
       "    }\n",
       "</style>\n",
       "<table border=\"1\" class=\"dataframe\">\n",
       "  <thead>\n",
       "    <tr style=\"text-align: right;\">\n",
       "      <th></th>\n",
       "      <th>show_id</th>\n",
       "      <th>cast</th>\n",
       "    </tr>\n",
       "  </thead>\n",
       "  <tbody>\n",
       "    <tr>\n",
       "      <th>0</th>\n",
       "      <td>s1</td>\n",
       "      <td>NaN</td>\n",
       "    </tr>\n",
       "    <tr>\n",
       "      <th>1</th>\n",
       "      <td>s2</td>\n",
       "      <td>Ama Qamata</td>\n",
       "    </tr>\n",
       "    <tr>\n",
       "      <th>1</th>\n",
       "      <td>s2</td>\n",
       "      <td>Khosi Ngema</td>\n",
       "    </tr>\n",
       "    <tr>\n",
       "      <th>1</th>\n",
       "      <td>s2</td>\n",
       "      <td>Gail Mabalane</td>\n",
       "    </tr>\n",
       "    <tr>\n",
       "      <th>1</th>\n",
       "      <td>s2</td>\n",
       "      <td>Thabang Molaba</td>\n",
       "    </tr>\n",
       "    <tr>\n",
       "      <th>1</th>\n",
       "      <td>s2</td>\n",
       "      <td>Dillon Windvogel</td>\n",
       "    </tr>\n",
       "    <tr>\n",
       "      <th>1</th>\n",
       "      <td>s2</td>\n",
       "      <td>Natasha Thahane</td>\n",
       "    </tr>\n",
       "    <tr>\n",
       "      <th>1</th>\n",
       "      <td>s2</td>\n",
       "      <td>Arno Greeff</td>\n",
       "    </tr>\n",
       "    <tr>\n",
       "      <th>1</th>\n",
       "      <td>s2</td>\n",
       "      <td>Xolile Tshabalala</td>\n",
       "    </tr>\n",
       "    <tr>\n",
       "      <th>1</th>\n",
       "      <td>s2</td>\n",
       "      <td>Getmore Sithole</td>\n",
       "    </tr>\n",
       "  </tbody>\n",
       "</table>\n",
       "</div>"
      ],
      "text/plain": [
       "  show_id                cast\n",
       "0      s1                 NaN\n",
       "1      s2          Ama Qamata\n",
       "1      s2         Khosi Ngema\n",
       "1      s2       Gail Mabalane\n",
       "1      s2      Thabang Molaba\n",
       "1      s2    Dillon Windvogel\n",
       "1      s2     Natasha Thahane\n",
       "1      s2         Arno Greeff\n",
       "1      s2   Xolile Tshabalala\n",
       "1      s2     Getmore Sithole"
      ]
     },
     "execution_count": 149,
     "metadata": {},
     "output_type": "execute_result"
    }
   ],
   "source": [
    "ser_cast = pd.Series(df.cast.str.split(\",\"))\n",
    "df_cast = pd.DataFrame([df.show_id, ser_cast]).T\n",
    "df_cast = df_cast.explode(\"cast\")\n",
    "df_cast.head(10)"
   ]
  },
  {
   "cell_type": "markdown",
   "metadata": {},
   "source": [
    "creating sub data set having show ID with cast"
   ]
  },
  {
   "cell_type": "code",
   "execution_count": 150,
   "metadata": {},
   "outputs": [
    {
     "data": {
      "text/html": [
       "<div>\n",
       "<style scoped>\n",
       "    .dataframe tbody tr th:only-of-type {\n",
       "        vertical-align: middle;\n",
       "    }\n",
       "\n",
       "    .dataframe tbody tr th {\n",
       "        vertical-align: top;\n",
       "    }\n",
       "\n",
       "    .dataframe thead th {\n",
       "        text-align: right;\n",
       "    }\n",
       "</style>\n",
       "<table border=\"1\" class=\"dataframe\">\n",
       "  <thead>\n",
       "    <tr style=\"text-align: right;\">\n",
       "      <th></th>\n",
       "      <th>show_id</th>\n",
       "      <th>listed_in</th>\n",
       "    </tr>\n",
       "  </thead>\n",
       "  <tbody>\n",
       "    <tr>\n",
       "      <th>0</th>\n",
       "      <td>s1</td>\n",
       "      <td>Documentaries</td>\n",
       "    </tr>\n",
       "    <tr>\n",
       "      <th>1</th>\n",
       "      <td>s2</td>\n",
       "      <td>International TV Shows</td>\n",
       "    </tr>\n",
       "    <tr>\n",
       "      <th>1</th>\n",
       "      <td>s2</td>\n",
       "      <td>TV Dramas</td>\n",
       "    </tr>\n",
       "    <tr>\n",
       "      <th>1</th>\n",
       "      <td>s2</td>\n",
       "      <td>TV Mysteries</td>\n",
       "    </tr>\n",
       "    <tr>\n",
       "      <th>2</th>\n",
       "      <td>s3</td>\n",
       "      <td>Crime TV Shows</td>\n",
       "    </tr>\n",
       "    <tr>\n",
       "      <th>2</th>\n",
       "      <td>s3</td>\n",
       "      <td>International TV Shows</td>\n",
       "    </tr>\n",
       "    <tr>\n",
       "      <th>2</th>\n",
       "      <td>s3</td>\n",
       "      <td>TV Action &amp; Adventure</td>\n",
       "    </tr>\n",
       "    <tr>\n",
       "      <th>3</th>\n",
       "      <td>s4</td>\n",
       "      <td>Docuseries</td>\n",
       "    </tr>\n",
       "    <tr>\n",
       "      <th>3</th>\n",
       "      <td>s4</td>\n",
       "      <td>Reality TV</td>\n",
       "    </tr>\n",
       "    <tr>\n",
       "      <th>4</th>\n",
       "      <td>s5</td>\n",
       "      <td>International TV Shows</td>\n",
       "    </tr>\n",
       "  </tbody>\n",
       "</table>\n",
       "</div>"
      ],
      "text/plain": [
       "  show_id                listed_in\n",
       "0      s1            Documentaries\n",
       "1      s2   International TV Shows\n",
       "1      s2                TV Dramas\n",
       "1      s2             TV Mysteries\n",
       "2      s3           Crime TV Shows\n",
       "2      s3   International TV Shows\n",
       "2      s3    TV Action & Adventure\n",
       "3      s4               Docuseries\n",
       "3      s4               Reality TV\n",
       "4      s5   International TV Shows"
      ]
     },
     "execution_count": 150,
     "metadata": {},
     "output_type": "execute_result"
    }
   ],
   "source": [
    "ser_lin = pd.Series(df.listed_in.str.split(\",\"))\n",
    "df_lin = pd.DataFrame([df.show_id, ser_lin]).T\n",
    "df_lin = df_lin.explode(\"listed_in\")\n",
    "df_lin.head(10)"
   ]
  },
  {
   "cell_type": "markdown",
   "metadata": {},
   "source": [
    "creating sub data set having show ID with genre"
   ]
  },
  {
   "cell_type": "code",
   "execution_count": 151,
   "metadata": {},
   "outputs": [
    {
     "name": "stdout",
     "output_type": "stream",
     "text": [
      "<class 'pandas.core.frame.DataFrame'>\n",
      "RangeIndex: 202065 entries, 0 to 202064\n",
      "Data columns (total 16 columns):\n",
      " #   Column        Non-Null Count   Dtype \n",
      "---  ------        --------------   ----- \n",
      " 0   show_id       202065 non-null  object\n",
      " 1   type          202065 non-null  object\n",
      " 2   title         202065 non-null  object\n",
      " 3   director_x    151422 non-null  object\n",
      " 4   cast_x        199916 non-null  object\n",
      " 5   country_x     190168 non-null  object\n",
      " 6   date_added    201907 non-null  object\n",
      " 7   release_year  202065 non-null  int64 \n",
      " 8   rating        201998 non-null  object\n",
      " 9   duration      202062 non-null  object\n",
      " 10  listed_in_x   202065 non-null  object\n",
      " 11  description   202065 non-null  object\n",
      " 12  director_y    151422 non-null  object\n",
      " 13  cast_y        199916 non-null  object\n",
      " 14  country_y     190168 non-null  object\n",
      " 15  listed_in_y   202065 non-null  object\n",
      "dtypes: int64(1), object(15)\n",
      "memory usage: 24.7+ MB\n"
     ]
    }
   ],
   "source": [
    "J1 = df_dir.merge(df_cast,on = 'show_id',how = 'outer')\n",
    "J1.head(20)\n",
    "J2 = J1.merge(df_con,on = 'show_id', how = 'outer')\n",
    "J2.head(30)\n",
    "J3 = J2.merge(df_lin,on = 'show_id',how = 'outer')\n",
    "J3.head(50)\n",
    "df = df.merge(J3,on = 'show_id',how='outer')\n",
    "df.info()"
   ]
  },
  {
   "cell_type": "markdown",
   "metadata": {},
   "source": [
    "We have merged all dataset and created a unique cobination for all cast, country, Genre, directors."
   ]
  },
  {
   "cell_type": "code",
   "execution_count": 152,
   "metadata": {},
   "outputs": [
    {
     "data": {
      "text/plain": [
       "show_id             0\n",
       "type                0\n",
       "title               0\n",
       "director_x      50643\n",
       "cast_x           2149\n",
       "country_x       11897\n",
       "date_added        158\n",
       "release_year        0\n",
       "rating             67\n",
       "duration            3\n",
       "listed_in_x         0\n",
       "description         0\n",
       "director_y      50643\n",
       "cast_y           2149\n",
       "country_y       11897\n",
       "listed_in_y         0\n",
       "dtype: int64"
      ]
     },
     "execution_count": 152,
     "metadata": {},
     "output_type": "execute_result"
    }
   ],
   "source": [
    "df.isna().sum()"
   ]
  },
  {
   "cell_type": "markdown",
   "metadata": {},
   "source": [
    "although the sgow IDs are repeating we can see that dirctiors is the column which have most of the data as null"
   ]
  },
  {
   "cell_type": "code",
   "execution_count": 153,
   "metadata": {},
   "outputs": [],
   "source": [
    "df.drop(labels = [\"director_x\",'cast_x','country_x','listed_in_x'],axis=1,inplace= True)"
   ]
  },
  {
   "cell_type": "markdown",
   "metadata": {},
   "source": [
    "Removing original columns for nested data"
   ]
  },
  {
   "cell_type": "code",
   "execution_count": 154,
   "metadata": {},
   "outputs": [
    {
     "data": {
      "text/html": [
       "<div>\n",
       "<style scoped>\n",
       "    .dataframe tbody tr th:only-of-type {\n",
       "        vertical-align: middle;\n",
       "    }\n",
       "\n",
       "    .dataframe tbody tr th {\n",
       "        vertical-align: top;\n",
       "    }\n",
       "\n",
       "    .dataframe thead th {\n",
       "        text-align: right;\n",
       "    }\n",
       "</style>\n",
       "<table border=\"1\" class=\"dataframe\">\n",
       "  <thead>\n",
       "    <tr style=\"text-align: right;\">\n",
       "      <th></th>\n",
       "      <th>show_id</th>\n",
       "      <th>type</th>\n",
       "      <th>title</th>\n",
       "      <th>date_added</th>\n",
       "      <th>release_year</th>\n",
       "      <th>rating</th>\n",
       "      <th>duration</th>\n",
       "      <th>description</th>\n",
       "      <th>director_y</th>\n",
       "      <th>cast_y</th>\n",
       "      <th>country_y</th>\n",
       "      <th>listed_in_y</th>\n",
       "    </tr>\n",
       "  </thead>\n",
       "  <tbody>\n",
       "    <tr>\n",
       "      <th>0</th>\n",
       "      <td>s1</td>\n",
       "      <td>Movie</td>\n",
       "      <td>Dick Johnson Is Dead</td>\n",
       "      <td>September 25, 2021</td>\n",
       "      <td>2020</td>\n",
       "      <td>PG-13</td>\n",
       "      <td>90 min</td>\n",
       "      <td>As her father nears the end of his life, filmm...</td>\n",
       "      <td>Kirsten Johnson</td>\n",
       "      <td>NaN</td>\n",
       "      <td>United States</td>\n",
       "      <td>Documentaries</td>\n",
       "    </tr>\n",
       "    <tr>\n",
       "      <th>1</th>\n",
       "      <td>s10</td>\n",
       "      <td>Movie</td>\n",
       "      <td>The Starling</td>\n",
       "      <td>September 24, 2021</td>\n",
       "      <td>2021</td>\n",
       "      <td>PG-13</td>\n",
       "      <td>104 min</td>\n",
       "      <td>A woman adjusting to life after a loss contend...</td>\n",
       "      <td>Theodore Melfi</td>\n",
       "      <td>Melissa McCarthy</td>\n",
       "      <td>United States</td>\n",
       "      <td>Comedies</td>\n",
       "    </tr>\n",
       "    <tr>\n",
       "      <th>2</th>\n",
       "      <td>s10</td>\n",
       "      <td>Movie</td>\n",
       "      <td>The Starling</td>\n",
       "      <td>September 24, 2021</td>\n",
       "      <td>2021</td>\n",
       "      <td>PG-13</td>\n",
       "      <td>104 min</td>\n",
       "      <td>A woman adjusting to life after a loss contend...</td>\n",
       "      <td>Theodore Melfi</td>\n",
       "      <td>Melissa McCarthy</td>\n",
       "      <td>United States</td>\n",
       "      <td>Dramas</td>\n",
       "    </tr>\n",
       "    <tr>\n",
       "      <th>3</th>\n",
       "      <td>s10</td>\n",
       "      <td>Movie</td>\n",
       "      <td>The Starling</td>\n",
       "      <td>September 24, 2021</td>\n",
       "      <td>2021</td>\n",
       "      <td>PG-13</td>\n",
       "      <td>104 min</td>\n",
       "      <td>A woman adjusting to life after a loss contend...</td>\n",
       "      <td>Theodore Melfi</td>\n",
       "      <td>Chris O'Dowd</td>\n",
       "      <td>United States</td>\n",
       "      <td>Comedies</td>\n",
       "    </tr>\n",
       "    <tr>\n",
       "      <th>4</th>\n",
       "      <td>s10</td>\n",
       "      <td>Movie</td>\n",
       "      <td>The Starling</td>\n",
       "      <td>September 24, 2021</td>\n",
       "      <td>2021</td>\n",
       "      <td>PG-13</td>\n",
       "      <td>104 min</td>\n",
       "      <td>A woman adjusting to life after a loss contend...</td>\n",
       "      <td>Theodore Melfi</td>\n",
       "      <td>Chris O'Dowd</td>\n",
       "      <td>United States</td>\n",
       "      <td>Dramas</td>\n",
       "    </tr>\n",
       "  </tbody>\n",
       "</table>\n",
       "</div>"
      ],
      "text/plain": [
       "  show_id   type                 title          date_added  release_year  \\\n",
       "0      s1  Movie  Dick Johnson Is Dead  September 25, 2021          2020   \n",
       "1     s10  Movie          The Starling  September 24, 2021          2021   \n",
       "2     s10  Movie          The Starling  September 24, 2021          2021   \n",
       "3     s10  Movie          The Starling  September 24, 2021          2021   \n",
       "4     s10  Movie          The Starling  September 24, 2021          2021   \n",
       "\n",
       "  rating duration                                        description  \\\n",
       "0  PG-13   90 min  As her father nears the end of his life, filmm...   \n",
       "1  PG-13  104 min  A woman adjusting to life after a loss contend...   \n",
       "2  PG-13  104 min  A woman adjusting to life after a loss contend...   \n",
       "3  PG-13  104 min  A woman adjusting to life after a loss contend...   \n",
       "4  PG-13  104 min  A woman adjusting to life after a loss contend...   \n",
       "\n",
       "        director_y            cast_y      country_y    listed_in_y  \n",
       "0  Kirsten Johnson               NaN  United States  Documentaries  \n",
       "1   Theodore Melfi  Melissa McCarthy  United States       Comedies  \n",
       "2   Theodore Melfi  Melissa McCarthy  United States         Dramas  \n",
       "3   Theodore Melfi      Chris O'Dowd  United States       Comedies  \n",
       "4   Theodore Melfi      Chris O'Dowd  United States         Dramas  "
      ]
     },
     "execution_count": 154,
     "metadata": {},
     "output_type": "execute_result"
    }
   ],
   "source": [
    "df.head()"
   ]
  },
  {
   "cell_type": "code",
   "execution_count": 155,
   "metadata": {},
   "outputs": [
    {
     "data": {
      "text/plain": [
       "['show_id',\n",
       " 'type',\n",
       " 'title',\n",
       " 'date_added',\n",
       " 'release_year',\n",
       " 'rating',\n",
       " 'duration',\n",
       " 'description',\n",
       " 'director_y',\n",
       " 'cast_y',\n",
       " 'country_y',\n",
       " 'listed_in_y']"
      ]
     },
     "execution_count": 155,
     "metadata": {},
     "output_type": "execute_result"
    }
   ],
   "source": [
    "df.columns.tolist()"
   ]
  },
  {
   "cell_type": "code",
   "execution_count": 156,
   "metadata": {},
   "outputs": [],
   "source": [
    "df.columns = ['show_id',\n",
    " 'type',\n",
    " 'title',\n",
    " 'date_added',\n",
    " 'release_year',\n",
    " 'rating',\n",
    " 'duration',\n",
    " 'description',\n",
    " 'director',\n",
    " 'cast',\n",
    " 'country',\n",
    " 'listed_in']"
   ]
  },
  {
   "cell_type": "markdown",
   "metadata": {},
   "source": [
    "Renaming new columns which are exploded"
   ]
  },
  {
   "cell_type": "code",
   "execution_count": 157,
   "metadata": {},
   "outputs": [
    {
     "data": {
      "text/html": [
       "<div>\n",
       "<style scoped>\n",
       "    .dataframe tbody tr th:only-of-type {\n",
       "        vertical-align: middle;\n",
       "    }\n",
       "\n",
       "    .dataframe tbody tr th {\n",
       "        vertical-align: top;\n",
       "    }\n",
       "\n",
       "    .dataframe thead th {\n",
       "        text-align: right;\n",
       "    }\n",
       "</style>\n",
       "<table border=\"1\" class=\"dataframe\">\n",
       "  <thead>\n",
       "    <tr style=\"text-align: right;\">\n",
       "      <th></th>\n",
       "      <th>show_id</th>\n",
       "      <th>type</th>\n",
       "      <th>title</th>\n",
       "      <th>date_added</th>\n",
       "      <th>release_year</th>\n",
       "      <th>rating</th>\n",
       "      <th>duration</th>\n",
       "      <th>description</th>\n",
       "      <th>director</th>\n",
       "      <th>cast</th>\n",
       "      <th>country</th>\n",
       "      <th>listed_in</th>\n",
       "    </tr>\n",
       "  </thead>\n",
       "  <tbody>\n",
       "    <tr>\n",
       "      <th>0</th>\n",
       "      <td>s1</td>\n",
       "      <td>Movie</td>\n",
       "      <td>Dick Johnson Is Dead</td>\n",
       "      <td>2021-09-25</td>\n",
       "      <td>2020</td>\n",
       "      <td>PG-13</td>\n",
       "      <td>90 min</td>\n",
       "      <td>As her father nears the end of his life, filmm...</td>\n",
       "      <td>Kirsten Johnson</td>\n",
       "      <td>NaN</td>\n",
       "      <td>United States</td>\n",
       "      <td>Documentaries</td>\n",
       "    </tr>\n",
       "    <tr>\n",
       "      <th>1</th>\n",
       "      <td>s10</td>\n",
       "      <td>Movie</td>\n",
       "      <td>The Starling</td>\n",
       "      <td>2021-09-24</td>\n",
       "      <td>2021</td>\n",
       "      <td>PG-13</td>\n",
       "      <td>104 min</td>\n",
       "      <td>A woman adjusting to life after a loss contend...</td>\n",
       "      <td>Theodore Melfi</td>\n",
       "      <td>Melissa McCarthy</td>\n",
       "      <td>United States</td>\n",
       "      <td>Comedies</td>\n",
       "    </tr>\n",
       "    <tr>\n",
       "      <th>2</th>\n",
       "      <td>s10</td>\n",
       "      <td>Movie</td>\n",
       "      <td>The Starling</td>\n",
       "      <td>2021-09-24</td>\n",
       "      <td>2021</td>\n",
       "      <td>PG-13</td>\n",
       "      <td>104 min</td>\n",
       "      <td>A woman adjusting to life after a loss contend...</td>\n",
       "      <td>Theodore Melfi</td>\n",
       "      <td>Melissa McCarthy</td>\n",
       "      <td>United States</td>\n",
       "      <td>Dramas</td>\n",
       "    </tr>\n",
       "    <tr>\n",
       "      <th>3</th>\n",
       "      <td>s10</td>\n",
       "      <td>Movie</td>\n",
       "      <td>The Starling</td>\n",
       "      <td>2021-09-24</td>\n",
       "      <td>2021</td>\n",
       "      <td>PG-13</td>\n",
       "      <td>104 min</td>\n",
       "      <td>A woman adjusting to life after a loss contend...</td>\n",
       "      <td>Theodore Melfi</td>\n",
       "      <td>Chris O'Dowd</td>\n",
       "      <td>United States</td>\n",
       "      <td>Comedies</td>\n",
       "    </tr>\n",
       "    <tr>\n",
       "      <th>4</th>\n",
       "      <td>s10</td>\n",
       "      <td>Movie</td>\n",
       "      <td>The Starling</td>\n",
       "      <td>2021-09-24</td>\n",
       "      <td>2021</td>\n",
       "      <td>PG-13</td>\n",
       "      <td>104 min</td>\n",
       "      <td>A woman adjusting to life after a loss contend...</td>\n",
       "      <td>Theodore Melfi</td>\n",
       "      <td>Chris O'Dowd</td>\n",
       "      <td>United States</td>\n",
       "      <td>Dramas</td>\n",
       "    </tr>\n",
       "  </tbody>\n",
       "</table>\n",
       "</div>"
      ],
      "text/plain": [
       "  show_id   type                 title date_added  release_year rating  \\\n",
       "0      s1  Movie  Dick Johnson Is Dead 2021-09-25          2020  PG-13   \n",
       "1     s10  Movie          The Starling 2021-09-24          2021  PG-13   \n",
       "2     s10  Movie          The Starling 2021-09-24          2021  PG-13   \n",
       "3     s10  Movie          The Starling 2021-09-24          2021  PG-13   \n",
       "4     s10  Movie          The Starling 2021-09-24          2021  PG-13   \n",
       "\n",
       "  duration                                        description  \\\n",
       "0   90 min  As her father nears the end of his life, filmm...   \n",
       "1  104 min  A woman adjusting to life after a loss contend...   \n",
       "2  104 min  A woman adjusting to life after a loss contend...   \n",
       "3  104 min  A woman adjusting to life after a loss contend...   \n",
       "4  104 min  A woman adjusting to life after a loss contend...   \n",
       "\n",
       "          director              cast        country      listed_in  \n",
       "0  Kirsten Johnson               NaN  United States  Documentaries  \n",
       "1   Theodore Melfi  Melissa McCarthy  United States       Comedies  \n",
       "2   Theodore Melfi  Melissa McCarthy  United States         Dramas  \n",
       "3   Theodore Melfi      Chris O'Dowd  United States       Comedies  \n",
       "4   Theodore Melfi      Chris O'Dowd  United States         Dramas  "
      ]
     },
     "execution_count": 157,
     "metadata": {},
     "output_type": "execute_result"
    }
   ],
   "source": [
    "df['date_added'] = pd.to_datetime(df['date_added'],format='mixed')\n",
    "#September 24, 2021\n",
    "df.head()"
   ]
  },
  {
   "cell_type": "markdown",
   "metadata": {},
   "source": [
    "Converting date added column to date time format"
   ]
  },
  {
   "cell_type": "code",
   "execution_count": 158,
   "metadata": {},
   "outputs": [
    {
     "data": {
      "text/plain": [
       "show_id             0\n",
       "type                0\n",
       "title               0\n",
       "date_added        158\n",
       "release_year        0\n",
       "rating             67\n",
       "duration            3\n",
       "description         0\n",
       "director        50643\n",
       "cast             2149\n",
       "country         11897\n",
       "listed_in           0\n",
       "dtype: int64"
      ]
     },
     "execution_count": 158,
     "metadata": {},
     "output_type": "execute_result"
    }
   ],
   "source": [
    "df.isna().sum()"
   ]
  },
  {
   "cell_type": "markdown",
   "metadata": {},
   "source": [
    "We can see that there are a few columns which have null values, lets start cleaning with lowest null count that is duration"
   ]
  },
  {
   "cell_type": "code",
   "execution_count": 159,
   "metadata": {},
   "outputs": [
    {
     "data": {
      "text/plain": [
       "Index([114507, 120566, 120775], dtype='int64')"
      ]
     },
     "execution_count": 159,
     "metadata": {},
     "output_type": "execute_result"
    }
   ],
   "source": [
    "df[df.duration.isna()].index"
   ]
  },
  {
   "cell_type": "code",
   "execution_count": 160,
   "metadata": {},
   "outputs": [
    {
     "data": {
      "text/plain": [
       "[114507, 120566, 120775]"
      ]
     },
     "execution_count": 160,
     "metadata": {},
     "output_type": "execute_result"
    }
   ],
   "source": [
    "df[df.duration.isna()].index.tolist()"
   ]
  },
  {
   "cell_type": "code",
   "execution_count": 161,
   "metadata": {},
   "outputs": [
    {
     "name": "stderr",
     "output_type": "stream",
     "text": [
      "C:\\Users\\Vaibhav\\AppData\\Local\\Temp\\ipykernel_16608\\3090609121.py:1: FutureWarning: ChainedAssignmentError: behaviour will change in pandas 3.0!\n",
      "You are setting values through chained assignment. Currently this works in certain cases, but when using Copy-on-Write (which will become the default behaviour in pandas 3.0) this will never work to update the original DataFrame or Series, because the intermediate object on which we are setting values will behave as a copy.\n",
      "A typical example is when you are setting values in a column of a DataFrame, like:\n",
      "\n",
      "df[\"col\"][row_indexer] = value\n",
      "\n",
      "Use `df.loc[row_indexer, \"col\"] = values` instead, to perform the assignment in a single step and ensure this keeps updating the original `df`.\n",
      "\n",
      "See the caveats in the documentation: https://pandas.pydata.org/pandas-docs/stable/user_guide/indexing.html#returning-a-view-versus-a-copy\n",
      "\n",
      "  df['duration'][df[df.duration.isna()].index.tolist()] = df.rating[df[df.duration.isna()].index.tolist()]\n",
      "C:\\Users\\Vaibhav\\AppData\\Local\\Temp\\ipykernel_16608\\3090609121.py:1: SettingWithCopyWarning: \n",
      "A value is trying to be set on a copy of a slice from a DataFrame\n",
      "\n",
      "See the caveats in the documentation: https://pandas.pydata.org/pandas-docs/stable/user_guide/indexing.html#returning-a-view-versus-a-copy\n",
      "  df['duration'][df[df.duration.isna()].index.tolist()] = df.rating[df[df.duration.isna()].index.tolist()]\n"
     ]
    }
   ],
   "source": [
    "df['duration'][df[df.duration.isna()].index.tolist()] = df.rating[df[df.duration.isna()].index.tolist()]"
   ]
  },
  {
   "cell_type": "markdown",
   "metadata": {},
   "source": [
    "Assigning rating to duration as we can see that rating column has duration values for these 3 items"
   ]
  },
  {
   "cell_type": "code",
   "execution_count": 162,
   "metadata": {},
   "outputs": [
    {
     "data": {
      "text/plain": [
       "['PG-13',\n",
       " 'TV-MA',\n",
       " 'TV-14',\n",
       " 'TV-Y',\n",
       " 'TV-Y7',\n",
       " 'R',\n",
       " 'PG',\n",
       " 'TV-PG',\n",
       " 'TV-G',\n",
       " 'G',\n",
       " 'NC-17',\n",
       " '74 min',\n",
       " '84 min',\n",
       " '66 min',\n",
       " 'NR',\n",
       " nan,\n",
       " 'TV-Y7-FV',\n",
       " 'UR']"
      ]
     },
     "execution_count": 162,
     "metadata": {},
     "output_type": "execute_result"
    }
   ],
   "source": [
    "df.rating.unique().tolist()"
   ]
  },
  {
   "cell_type": "markdown",
   "metadata": {},
   "source": [
    "Checking next column which is rating"
   ]
  },
  {
   "cell_type": "code",
   "execution_count": 163,
   "metadata": {},
   "outputs": [],
   "source": [
    "valid_rating = ['PG-13',\n",
    " 'TV-MA',\n",
    " 'TV-14',\n",
    " 'TV-Y',\n",
    " 'TV-Y7',\n",
    " 'R',\n",
    " 'PG',\n",
    " 'TV-PG',\n",
    " 'TV-G',\n",
    " 'G',\n",
    " 'NC-17',\n",
    " 'NR',\n",
    " 'TV-Y7-FV',\n",
    " 'UR']"
   ]
  },
  {
   "cell_type": "markdown",
   "metadata": {},
   "source": [
    "we have created a list of valid ratings."
   ]
  },
  {
   "cell_type": "code",
   "execution_count": 164,
   "metadata": {},
   "outputs": [],
   "source": [
    "mask = df['rating'].isin(valid_rating).apply(lambda x: not x)\n",
    "# mask.apply(lambda x: not x)\n",
    "df.loc[mask, \"rating\"] = \"NR\""
   ]
  },
  {
   "cell_type": "markdown",
   "metadata": {},
   "source": [
    "assigining rating 'NR' for all non-valid rating entries"
   ]
  },
  {
   "cell_type": "code",
   "execution_count": 165,
   "metadata": {},
   "outputs": [
    {
     "data": {
      "text/plain": [
       "release_year\n",
       "2015    40\n",
       "2008    36\n",
       "2013    27\n",
       "2003    24\n",
       "2012    24\n",
       "2016     5\n",
       "2018     1\n",
       "2010     1\n",
       "Name: count, dtype: int64"
      ]
     },
     "execution_count": 165,
     "metadata": {},
     "output_type": "execute_result"
    }
   ],
   "source": [
    "df[df['date_added'].isna()].release_year.value_counts()"
   ]
  },
  {
   "cell_type": "code",
   "execution_count": 166,
   "metadata": {},
   "outputs": [],
   "source": [
    "# df.loc[df['date_added'].isna(), \"date_added\"] = pd.to_datetime(df[df['date_added'].isna()]['release_year'])"
   ]
  },
  {
   "cell_type": "code",
   "execution_count": 167,
   "metadata": {},
   "outputs": [
    {
     "data": {
      "text/plain": [
       "show_id             0\n",
       "type                0\n",
       "title               0\n",
       "date_added        158\n",
       "release_year        0\n",
       "rating              0\n",
       "duration            0\n",
       "description         0\n",
       "director        50643\n",
       "cast             2149\n",
       "country         11897\n",
       "listed_in           0\n",
       "dtype: int64"
      ]
     },
     "execution_count": 167,
     "metadata": {},
     "output_type": "execute_result"
    }
   ],
   "source": [
    "df.isna().sum()"
   ]
  },
  {
   "cell_type": "code",
   "execution_count": 168,
   "metadata": {},
   "outputs": [
    {
     "data": {
      "text/html": [
       "<div>\n",
       "<style scoped>\n",
       "    .dataframe tbody tr th:only-of-type {\n",
       "        vertical-align: middle;\n",
       "    }\n",
       "\n",
       "    .dataframe tbody tr th {\n",
       "        vertical-align: top;\n",
       "    }\n",
       "\n",
       "    .dataframe thead th {\n",
       "        text-align: right;\n",
       "    }\n",
       "</style>\n",
       "<table border=\"1\" class=\"dataframe\">\n",
       "  <thead>\n",
       "    <tr style=\"text-align: right;\">\n",
       "      <th></th>\n",
       "      <th>show_id</th>\n",
       "      <th>title</th>\n",
       "    </tr>\n",
       "  </thead>\n",
       "  <tbody>\n",
       "    <tr>\n",
       "      <th>205</th>\n",
       "      <td>s1006</td>\n",
       "      <td>Keymon and Nani in Space Adventure</td>\n",
       "    </tr>\n",
       "    <tr>\n",
       "      <th>206</th>\n",
       "      <td>s1006</td>\n",
       "      <td>Keymon and Nani in Space Adventure</td>\n",
       "    </tr>\n",
       "    <tr>\n",
       "      <th>263</th>\n",
       "      <td>s1012</td>\n",
       "      <td>Free to Play</td>\n",
       "    </tr>\n",
       "    <tr>\n",
       "      <th>1176</th>\n",
       "      <td>s1039</td>\n",
       "      <td>Dancing Angels</td>\n",
       "    </tr>\n",
       "    <tr>\n",
       "      <th>1177</th>\n",
       "      <td>s1039</td>\n",
       "      <td>Dancing Angels</td>\n",
       "    </tr>\n",
       "    <tr>\n",
       "      <th>...</th>\n",
       "      <td>...</td>\n",
       "      <td>...</td>\n",
       "    </tr>\n",
       "    <tr>\n",
       "      <th>199754</th>\n",
       "      <td>s901</td>\n",
       "      <td>Money, Explained</td>\n",
       "    </tr>\n",
       "    <tr>\n",
       "      <th>200191</th>\n",
       "      <td>s926</td>\n",
       "      <td>Angelina Ballerina</td>\n",
       "    </tr>\n",
       "    <tr>\n",
       "      <th>200192</th>\n",
       "      <td>s926</td>\n",
       "      <td>Angelina Ballerina</td>\n",
       "    </tr>\n",
       "    <tr>\n",
       "      <th>200500</th>\n",
       "      <td>s937</td>\n",
       "      <td>Miniforce: Super Dino Power</td>\n",
       "    </tr>\n",
       "    <tr>\n",
       "      <th>201105</th>\n",
       "      <td>s958</td>\n",
       "      <td>Pet Stars</td>\n",
       "    </tr>\n",
       "  </tbody>\n",
       "</table>\n",
       "<p>738 rows × 2 columns</p>\n",
       "</div>"
      ],
      "text/plain": [
       "       show_id                               title\n",
       "205      s1006  Keymon and Nani in Space Adventure\n",
       "206      s1006  Keymon and Nani in Space Adventure\n",
       "263      s1012                        Free to Play\n",
       "1176     s1039                      Dancing Angels\n",
       "1177     s1039                      Dancing Angels\n",
       "...        ...                                 ...\n",
       "199754    s901                    Money, Explained\n",
       "200191    s926                  Angelina Ballerina\n",
       "200192    s926                  Angelina Ballerina\n",
       "200500    s937         Miniforce: Super Dino Power\n",
       "201105    s958                           Pet Stars\n",
       "\n",
       "[738 rows x 2 columns]"
      ]
     },
     "execution_count": 168,
     "metadata": {},
     "output_type": "execute_result"
    }
   ],
   "source": [
    "df[((df.cast.isna()) & (df.director.isna()))][['show_id','title']]"
   ]
  },
  {
   "cell_type": "code",
   "execution_count": 169,
   "metadata": {},
   "outputs": [],
   "source": [
    "df.groupby('director')[['title','director','cast']]\n",
    "s = pd.to_datetime(df.date_added, dayfirst=True)\n",
    "df['date_added'] = s\n",
    "df['duration'] = df.duration.str.split(\" \").apply(lambda X:X[0]).astype('int')"
   ]
  },
  {
   "cell_type": "markdown",
   "metadata": {},
   "source": [
    "Converting duration to numeric"
   ]
  },
  {
   "cell_type": "code",
   "execution_count": 170,
   "metadata": {},
   "outputs": [
    {
     "name": "stdout",
     "output_type": "stream",
     "text": [
      "<class 'pandas.core.frame.DataFrame'>\n",
      "RangeIndex: 202065 entries, 0 to 202064\n",
      "Data columns (total 12 columns):\n",
      " #   Column        Non-Null Count   Dtype         \n",
      "---  ------        --------------   -----         \n",
      " 0   show_id       202065 non-null  object        \n",
      " 1   type          202065 non-null  object        \n",
      " 2   title         202065 non-null  object        \n",
      " 3   date_added    201907 non-null  datetime64[ns]\n",
      " 4   release_year  202065 non-null  int64         \n",
      " 5   rating        202065 non-null  object        \n",
      " 6   duration      202065 non-null  int32         \n",
      " 7   description   202065 non-null  object        \n",
      " 8   director      151422 non-null  object        \n",
      " 9   cast          199916 non-null  object        \n",
      " 10  country       190168 non-null  object        \n",
      " 11  listed_in     202065 non-null  object        \n",
      "dtypes: datetime64[ns](1), int32(1), int64(1), object(9)\n",
      "memory usage: 17.7+ MB\n"
     ]
    }
   ],
   "source": [
    "df.isnull().sum()\n",
    "df.nunique()\n",
    "df.info()"
   ]
  },
  {
   "cell_type": "markdown",
   "metadata": {},
   "source": [
    "By looking at unique values we can conclude the following regarding the dataset attributes:\n",
    "1. type: only 2 types are present\n",
    "2. release_year: we have data for past 74 years given that no value in between is missing\n",
    "3. ratings: there are 14 various types of rating\n",
    "4. country: shows are released in 197 countries."
   ]
  },
  {
   "cell_type": "markdown",
   "metadata": {},
   "source": [
    "#### we will initialize now our univariate analysis"
   ]
  },
  {
   "cell_type": "code",
   "execution_count": 171,
   "metadata": {},
   "outputs": [
    {
     "data": {
      "image/png": "[encoded data removed]",
      "text/plain": [
       "<Figure size 640x480 with 1 Axes>"
      ]
     },
     "metadata": {},
     "output_type": "display_data"
    }
   ],
   "source": [
    "s = df.groupby('type')['show_id'].nunique()\n",
    "plt.pie(s,labels=s.index, autopct='%.0f%%' )\n",
    "plt.show()"
   ]
  },
  {
   "cell_type": "markdown",
   "metadata": {},
   "source": [
    "Observation: 70% titles belongs to movies while 30% titles are TV shows"
   ]
  },
  {
   "cell_type": "code",
   "execution_count": 172,
   "metadata": {},
   "outputs": [
    {
     "data": {
      "image/png": "[encoded data removed]",
      "text/plain": [
       "<Figure size 600x400 with 1 Axes>"
      ]
     },
     "metadata": {},
     "output_type": "display_data"
    }
   ],
   "source": [
    "s = df.groupby(\"release_year\")['show_id'].nunique()\n",
    "# print(s.head)\n",
    "plt.figure(figsize=(6,4))\n",
    "sns.lineplot(s)\n",
    "plt.ylabel('show count')\n",
    "plt.annotate(f\"{s.max()} in {s.index[s.argmax()]}\",xy=(s.index[s.argmax()],s.max()))\n",
    "plt.show()"
   ]
  },
  {
   "cell_type": "markdown",
   "metadata": {},
   "source": [
    "we can also see that the most of the added titles are recently added. Majorly of 2018."
   ]
  },
  {
   "cell_type": "code",
   "execution_count": 173,
   "metadata": {},
   "outputs": [
    {
     "data": {
      "image/png": "[encoded data removed]",
      "text/plain": [
       "<Figure size 1200x600 with 1 Axes>"
      ]
     },
     "metadata": {},
     "output_type": "display_data"
    }
   ],
   "source": [
    "s = df.groupby('rating')['show_id'].nunique().sort_values(ascending=False).reset_index()\n",
    "# s.head()\n",
    "plt.figure(figsize=(12,6))\n",
    "\n",
    "sns.barplot(data=s, x='rating',y = 'show_id')\n",
    "ax = plt.gca()\n",
    "ax.bar_label(ax.containers[0], fontsize=6)\n",
    "plt.show()"
   ]
  },
  {
   "cell_type": "markdown",
   "metadata": {},
   "source": [
    "cosidering rating-wise, we can see that \"TV-MA' have highest number of titles which is 3207"
   ]
  },
  {
   "cell_type": "code",
   "execution_count": 174,
   "metadata": {},
   "outputs": [],
   "source": [
    "# !pip install squarify\n",
    "import squarify"
   ]
  },
  {
   "cell_type": "code",
   "execution_count": 175,
   "metadata": {},
   "outputs": [
    {
     "data": {
      "image/png": "[encoded data removed]",
      "text/plain": [
       "<Figure size 1600x600 with 1 Axes>"
      ]
     },
     "metadata": {},
     "output_type": "display_data"
    }
   ],
   "source": [
    "s = df.groupby('country')['show_id'].nunique().sort_values(ascending=False).reset_index()\n",
    "# my_column_90th_percentile = s['show_id'].quantile(0.9)\n",
    "# my_column_90th_percentile\n",
    "s.loc[12:,'country'] = 'Others'\n",
    "s.head(15)\n",
    "s = s.groupby('country')['show_id'].agg(\"sum\").sort_values(ascending=False)\n",
    "plt.figure(figsize=(16,6))\n",
    "squarify.plot(s,label = s.index)\n",
    "plt.show()\n",
    "# print(s.head())"
   ]
  },
  {
   "cell_type": "markdown",
   "metadata": {},
   "source": [
    "we can see that most of the titles are being released in US followed by India."
   ]
  },
  {
   "cell_type": "code",
   "execution_count": 176,
   "metadata": {},
   "outputs": [
    {
     "data": {
      "image/png": "[encoded data removed]",
      "text/plain": [
       "<Figure size 1600x600 with 1 Axes>"
      ]
     },
     "metadata": {},
     "output_type": "display_data"
    }
   ],
   "source": [
    "s = df.groupby(['listed_in'])['show_id'].nunique().sort_values(ascending=False).reset_index()\n",
    "plt.figure(figsize=(16,6))\n",
    "# print(s)\n",
    "s.loc[20:,'listed_in'] = 'Others'\n",
    "# print(s)\n",
    "s = s.groupby('listed_in')['show_id'].agg(\"sum\").sort_values(ascending=False)\n",
    "# print(s)\n",
    "# sns.lineplot(x='listed_in',y='show_id',hue='type',data=s)\n",
    "squarify.plot(s,label = s.index)\n",
    "plt.show()"
   ]
  },
  {
   "cell_type": "markdown",
   "metadata": {},
   "source": [
    "we can see that most of the titles are being released under international Movies."
   ]
  },
  {
   "cell_type": "code",
   "execution_count": 177,
   "metadata": {},
   "outputs": [
    {
     "data": {
      "image/png": "[encoded data removed]",
      "text/plain": [
       "<Figure size 1600x600 with 1 Axes>"
      ]
     },
     "metadata": {},
     "output_type": "display_data"
    }
   ],
   "source": [
    "s = df[df.type==\"Movie\"][['title','duration']].drop_duplicates()\n",
    "# s.info()\n",
    "plt.figure(figsize=(16,6))\n",
    "sns.histplot(s,kde=True)\n",
    "plt.show()\n",
    "# df.info()"
   ]
  },
  {
   "cell_type": "markdown",
   "metadata": {},
   "source": [
    "we can see that there is a bell curve forming while plotting duration histogram for movies.\n",
    "we can see that peak frequency of the movie duration lies around 90-110 minutes "
   ]
  },
  {
   "cell_type": "code",
   "execution_count": 178,
   "metadata": {},
   "outputs": [
    {
     "data": {
      "image/png": "[encoded data removed]",
      "text/plain": [
       "<Figure size 1600x600 with 1 Axes>"
      ]
     },
     "metadata": {},
     "output_type": "display_data"
    }
   ],
   "source": [
    "# df.type.value_counts()\n",
    "s = df[df.type==\"TV Show\"][['title','duration']].drop_duplicates()\n",
    "# s.info()\n",
    "plt.figure(figsize=(16,6))\n",
    "sns.histplot(s,kde=True)\n",
    "plt.show()"
   ]
  },
  {
   "cell_type": "markdown",
   "metadata": {},
   "source": [
    "we can see that most of the tv show have 1 season and have decreasing frequency as the number of season increases"
   ]
  },
  {
   "cell_type": "code",
   "execution_count": 179,
   "metadata": {},
   "outputs": [
    {
     "data": {
      "image/png": "[encoded data removed]",
      "text/plain": [
       "<Figure size 1600x600 with 1 Axes>"
      ]
     },
     "metadata": {},
     "output_type": "display_data"
    }
   ],
   "source": [
    "s = df[['title','date_added']].drop_duplicates()\n",
    "# s.info()\n",
    "plt.figure(figsize=(16,6))\n",
    "sns.histplot(s.date_added,kde=True)\n",
    "plt.show()"
   ]
  },
  {
   "cell_type": "markdown",
   "metadata": {},
   "source": [
    "we can observe that there was a sudden growth in number of titles added between 2016 to 2018. then the added titles plateaues and then decreases."
   ]
  },
  {
   "cell_type": "markdown",
   "metadata": {},
   "source": [
    "### bi-variate analysis"
   ]
  },
  {
   "cell_type": "markdown",
   "metadata": {},
   "source": [
    "1. ##### type-release_year"
   ]
  },
  {
   "cell_type": "code",
   "execution_count": 180,
   "metadata": {},
   "outputs": [
    {
     "data": {
      "text/plain": [
       "<Axes: xlabel='release_year', ylabel='show_id'>"
      ]
     },
     "execution_count": 180,
     "metadata": {},
     "output_type": "execute_result"
    },
    {
     "data": {
      "image/png": "[encoded data removed]",
      "text/plain": [
       "<Figure size 1600x600 with 1 Axes>"
      ]
     },
     "metadata": {},
     "output_type": "display_data"
    }
   ],
   "source": [
    "s = df.groupby(['release_year','type'])['show_id'].nunique().sort_values(ascending=False).reset_index()\n",
    "plt.figure(figsize=(16,6))\n",
    "sns.lineplot(x='release_year',y='show_id',hue='type',data=s)\n",
    "# correlation = s[s['type'] == 'Movies']['show_id'].corr(s[s['type'] == 'TV Show']['show_id'])\n",
    "# s.value_counts()\n",
    "# print(correlation)\n",
    "# plt.show()"
   ]
  },
  {
   "cell_type": "markdown",
   "metadata": {},
   "source": [
    "we can observe that both the movieas and TV show moves parallely to eachother and the ratio or release year in movies and TV show remains alsmost same."
   ]
  },
  {
   "cell_type": "markdown",
   "metadata": {},
   "source": [
    "2. ##### Type-rating"
   ]
  },
  {
   "cell_type": "code",
   "execution_count": 181,
   "metadata": {},
   "outputs": [
    {
     "data": {
      "image/png": "[encoded data removed]",
      "text/plain": [
       "<Figure size 1600x600 with 1 Axes>"
      ]
     },
     "metadata": {},
     "output_type": "display_data"
    }
   ],
   "source": [
    "s = df.groupby(['rating','type'])['show_id'].nunique().sort_values(ascending=False).reset_index()\n",
    "plt.figure(figsize=(16,6))\n",
    "sns.barplot(x='rating',y='show_id',hue='type',data=s)\n",
    "plt.show()"
   ]
  },
  {
   "cell_type": "markdown",
   "metadata": {},
   "source": [
    "for rating \"TV-MA', \"TV-14\", and \"TV-PG\" we can see that the 70/30 ratio if more or less followed, however for \"R\",\"PG-13\" & \"PG\" rating there are almost zero TV show. however 'TV-Y7', 'TV-Y' and 'TV-G' have more TV-show than movies\n"
   ]
  },
  {
   "cell_type": "markdown",
   "metadata": {},
   "source": [
    "3. ##### Type-listed_in"
   ]
  },
  {
   "cell_type": "code",
   "execution_count": 182,
   "metadata": {},
   "outputs": [
    {
     "data": {
      "image/png": "[encoded data removed]",
      "text/plain": [
       "<Figure size 1600x600 with 1 Axes>"
      ]
     },
     "metadata": {},
     "output_type": "display_data"
    }
   ],
   "source": [
    "s = df[['title','rating','duration','type']].drop_duplicates()\n",
    "plt.figure(figsize=(16,6))\n",
    "sns.boxplot(x='rating', y='duration', data=s[s.type=='Movie'],hue=\"type\")\n",
    "plt.show()"
   ]
  },
  {
   "cell_type": "markdown",
   "metadata": {},
   "source": [
    "We can see that NC-17 rating have the longest duration movies on an average. but it is difficult to make any conclusion as data have multiple outliers."
   ]
  },
  {
   "cell_type": "code",
   "execution_count": 183,
   "metadata": {},
   "outputs": [
    {
     "data": {
      "image/png": "[encoded data removed]",
      "text/plain": [
       "<Figure size 1600x600 with 1 Axes>"
      ]
     },
     "metadata": {},
     "output_type": "display_data"
    }
   ],
   "source": [
    "s = df[['title','rating','duration','type']].drop_duplicates()\n",
    "plt.figure(figsize=(16,6))\n",
    "sns.boxplot(x='rating', y='duration', data=s[s.type=='TV Show'],hue=\"type\")\n",
    "plt.show()"
   ]
  },
  {
   "cell_type": "markdown",
   "metadata": {},
   "source": [
    "similar to Movies, it is difficult to make any conclusion as data have multiple outliers."
   ]
  },
  {
   "cell_type": "markdown",
   "metadata": {},
   "source": [
    "## Conclusion"
   ]
  },
  {
   "cell_type": "markdown",
   "metadata": {},
   "source": [
    "1. 70% of titles are movies\n",
    "2. Most viewed country is US followed by India\n",
    "3. Release year of the titles are mostly belonging to 2016 to 2021 hence recently added titles have more preference\n",
    "4. Rating: 'TV-MA' is the highest hence TV-MA is the most popular rating for any title to be released in.\n",
    "5. Duration of most movies lies between 90-110 minutes \n",
    "6. Tv-show have 1 season as most frequency\n",
    "7. country: US & India takes major chunk of the portion.\n"
   ]
  }
 ],
 "metadata": {
  "kernelspec": {
   "display_name": "base",
   "language": "python",
   "name": "python3"
  },
  "language_info": {
   "codemirror_mode": {
    "name": "ipython",
    "version": 3
   },
   "file_extension": ".py",
   "mimetype": "text/x-python",
   "name": "python",
   "nbconvert_exporter": "python",
   "pygments_lexer": "ipython3",
   "version": "3.12.4"
  }
 },
 "nbformat": 4,
 "nbformat_minor": 2
}
